{
 "metadata": {
  "language_info": {
   "codemirror_mode": {
    "name": "ipython",
    "version": 3
   },
   "file_extension": ".py",
   "mimetype": "text/x-python",
   "name": "python",
   "nbconvert_exporter": "python",
   "pygments_lexer": "ipython3",
   "version": "3.7.3-final"
  },
  "orig_nbformat": 2,
  "kernelspec": {
   "name": "python3",
   "display_name": "Python 3"
  }
 },
 "nbformat": 4,
 "nbformat_minor": 2,
 "cells": [
  {
   "cell_type": "code",
   "execution_count": 3,
   "metadata": {},
   "outputs": [
    {
     "output_type": "stream",
     "name": "stdout",
     "text": [
      "+----------+-----+----------+\n|   Name   | Age | Nickname |\n+==========+=====+==========+\n| Mr       |     |          |\n| Xavier   | 32  |   Xav'   |\n| Huon     |     |          |\n+----------+-----+----------+\n| Mr       |     |          |\n| Baptiste |  1  |   Baby   |\n| Clement  |     |          |\n+----------+-----+----------+\n| Mme      |     |   Lou    |\n| Louise   | 28  |          |\n| Bourgeau |     |   Loue   |\n+----------+-----+----------+\n"
     ]
    }
   ],
   "source": [
    "import texttable\n",
    "\n",
    "\n",
    "table = texttable.Texttable()\n",
    "\n",
    "# Alignment for each column\n",
    "# l-eft, c-enter, r- right\n",
    "table.set_cols_align([\"l\", \"c\", \"c\"])\n",
    "\n",
    "# Alignment for each line\n",
    "# t-op, m-iddle, b-ottom\n",
    "table.set_cols_valign([\"m\", \"m\", \"m\"])\n",
    "\n",
    "table.add_rows([[\"Name\", \"Age\", \"Nickname\"],\n",
    "                [\"Mr\\nXavier\\nHuon\", 32, \"Xav'\"],\n",
    "                [\"Mr\\nBaptiste\\nClement\", 1, \"Baby\"],\n",
    "                [\"Mme\\nLouise\\nBourgeau\", 28, \"Lou\\n\\nLoue\"]])\n",
    "\n",
    "print(table.draw())"
   ]
  },
  {
   "cell_type": "code",
   "execution_count": null,
   "metadata": {},
   "outputs": [],
   "source": []
  }
 ]
}