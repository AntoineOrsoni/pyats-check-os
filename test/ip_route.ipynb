{
 "metadata": {
  "language_info": {
   "codemirror_mode": {
    "name": "ipython",
    "version": 3
   },
   "file_extension": ".py",
   "mimetype": "text/x-python",
   "name": "python",
   "nbconvert_exporter": "python",
   "pygments_lexer": "ipython3",
   "version": "3.7.3-final"
  },
  "orig_nbformat": 2,
  "kernelspec": {
   "name": "python3",
   "display_name": "Python 3.7.3 64-bit ('venv')",
   "metadata": {
    "interpreter": {
     "hash": "5c5087b61a9a834cb935dee166d441f021ac5a957fec40f86369e045e45ac84e"
    }
   }
  }
 },
 "nbformat": 4,
 "nbformat_minor": 2,
 "cells": [
  {
   "source": [
    "## Pre-setup"
   ],
   "cell_type": "markdown",
   "metadata": {}
  },
  {
   "source": [
    "# import the aetest module\n",
    "from pyats import aetest\n",
    "import logging\n",
    "from genie.testbed import load\n",
    "import argparse\n",
    "import sys\n",
    "import pprint\n",
    "import json\n",
    "\n",
    "# set debug level DEBUG, INFO, WARNING\n",
    "logger = logging.getLogger(__name__)\n",
    "logger.setLevel(logging.INFO)\n",
    "\n",
    "# set pprint\n",
    "pp = pprint.PrettyPrinter(indent = 2)"
   ],
   "cell_type": "code",
   "metadata": {},
   "execution_count": 2,
   "outputs": []
  },
  {
   "source": [
    "## Time for the timestamps"
   ],
   "cell_type": "markdown",
   "metadata": {}
  },
  {
   "cell_type": "code",
   "execution_count": 6,
   "metadata": {},
   "outputs": [
    {
     "output_type": "stream",
     "name": "stdout",
     "text": [
      "2020-11-18 09:40:01\n"
     ]
    }
   ],
   "source": [
    "import time\n",
    "\n",
    "# %Y: full year (4 digits)\n",
    "# %m: month (2 digits)\n",
    "# %d: day (2 digits)\n",
    "# %H: hours\n",
    "# %M: minutes\n",
    "# %S: seconds\n",
    "# Doc: https://docs.python.org/fr/3/library/time.html#time.strftime\n",
    "\n",
    "# I have to reuse these two lines every time I need the current_time.\n",
    "t = time.localtime()\n",
    "current_time = time.strftime(\"%Y-%m-%d %H:%M:%S\", t)\n",
    "\n",
    "print(current_time)"
   ]
  },
  {
   "source": [
    "## Loading the testbed, connecting to the device"
   ],
   "cell_type": "markdown",
   "metadata": {}
  },
  {
   "cell_type": "code",
   "execution_count": 3,
   "metadata": {},
   "outputs": [],
   "source": [
    "testbed = load('/home/anorsoni/Projets/2020-CAP-Altitude/pyats-check-os/testbed.yaml')\n",
    "\n",
    "asr903_5 = testbed.devices[\"ASR903_5\"]\n",
    "\n",
    "asr903_5.connect(init_exec_commands=[],\n",
    "                 init_config_commands=[],\n",
    "                 log_stdout=False)"
   ]
  },
  {
   "source": [
    "## Getting and parsing ROUTE info\n",
    "### show ip route summary"
   ],
   "cell_type": "markdown",
   "metadata": {}
  },
  {
   "cell_type": "code",
   "execution_count": 4,
   "metadata": {},
   "outputs": [
    {
     "output_type": "stream",
     "name": "stdout",
     "text": [
      "{ 'vrf': { 'default': { 'maximum_paths': 32,\n                        'route_source': { 'bgp': { '49594': { 'external': 0,\n                                                              'internal': 0,\n                                                              'local': 0,\n                                                              'memory_bytes': 0,\n                                                              'networks': 0,\n                                                              'overhead': 0,\n                                                              'replicates': 0,\n                                                              'subnets': 0}},\n                                          'connected': { 'memory_bytes': 1400,\n                                                         'networks': 0,\n                                                         'overhead': 560,\n                                                         'replicates': 0,\n                                                         'subnets': 7},\n                                          'internal': { 'memory_bytes': 1100,\n                                                        'networks': 2},\n                                          'isis': { 'Altitude': { 'inter_area': 0,\n                                                                  'level_1': 0,\n                                                                  'level_2': 7,\n                                                                  'memory_bytes': 1400,\n                                                                  'networks': 0,\n                                                                  'overhead': 560,\n                                                                  'replicates': 0,\n                                                                  'subnets': 7}},\n                                          'static': { 'memory_bytes': 0,\n                                                      'networks': 0,\n                                                      'overhead': 0,\n                                                      'replicates': 0,\n                                                      'subnets': 0}},\n                        'total_route_source': { 'memory_bytes': 3900,\n                                                'networks': 2,\n                                                'overhead': 1120,\n                                                'replicates': 0,\n                                                'subnets': 14},\n                        'vrf_id': '0x0'}}}\n"
     ]
    }
   ],
   "source": [
    "route_summary = asr903_5.parse('show ip route summary')\n",
    "pp.pprint(route_summary)"
   ]
  },
  {
   "cell_type": "code",
   "execution_count": null,
   "metadata": {},
   "outputs": [],
   "source": []
  },
  {
   "source": [
    "### show ip route"
   ],
   "cell_type": "markdown",
   "metadata": {}
  },
  {
   "cell_type": "code",
   "execution_count": 14,
   "metadata": {},
   "outputs": [
    {
     "output_type": "stream",
     "name": "stdout",
     "text": [
      "{ 'vrf': { 'default': { 'address_family': { 'ipv4': { 'routes': { '10.67.120.250/32': { 'active': True,\n                                                                                        'metric': 1000,\n                                                                                        'next_hop': { 'next_hop_list': { 1: { 'index': 1,\n                                                                                                                              'next_hop': '100.100.35.3',\n                                                                                                                              'outgoing_interface': 'BDI1',\n                                                                                                                              'updated': '13:27:15'}}},\n                                                                                        'route': '10.67.120.250/32',\n                                                                                        'route_preference': 115,\n                                                                                        'source_protocol': 'isis',\n                                                                                        'source_protocol_codes': 'i '\n                                                                                                                 'L2'},\n                                                                  '10.67.23.250/32': { 'active': True,\n                                                                                       'next_hop': { 'outgoing_interface': { 'Loopback0': { 'outgoing_interface': 'Loopback0'}}},\n                                                                                       'route': '10.67.23.250/32',\n                                                                                       'source_protocol': 'connected',\n                                                                                       'source_protocol_codes': 'C'},\n                                                                  '10.68.120.250/32': { 'active': True,\n                                                                                        'metric': 1020,\n                                                                                        'next_hop': { 'next_hop_list': { 1: { 'index': 1,\n                                                                                                                              'next_hop': '100.100.35.3',\n                                                                                                                              'outgoing_interface': 'BDI1',\n                                                                                                                              'updated': '13:27:15'}}},\n                                                                                        'route': '10.68.120.250/32',\n                                                                                        'route_preference': 115,\n                                                                                        'source_protocol': 'isis',\n                                                                                        'source_protocol_codes': 'i '\n                                                                                                                 'L2'},\n                                                                  '10.75.1.50/32': { 'active': True,\n                                                                                     'metric': 1100,\n                                                                                     'next_hop': { 'next_hop_list': { 1: { 'index': 1,\n                                                                                                                           'next_hop': '100.100.35.3',\n                                                                                                                           'outgoing_interface': 'BDI1',\n                                                                                                                           'updated': '13:27:15'}}},\n                                                                                     'route': '10.75.1.50/32',\n                                                                                     'route_preference': 115,\n                                                                                     'source_protocol': 'isis',\n                                                                                     'source_protocol_codes': 'i '\n                                                                                                              'L2'},\n                                                                  '10.75.5.50/32': { 'active': True,\n                                                                                     'metric': 1110,\n                                                                                     'next_hop': { 'next_hop_list': { 1: { 'index': 1,\n                                                                                                                           'next_hop': '100.100.35.3',\n                                                                                                                           'outgoing_interface': 'BDI1',\n                                                                                                                           'updated': '13:27:15'}}},\n                                                                                     'route': '10.75.5.50/32',\n                                                                                     'route_preference': 115,\n                                                                                     'source_protocol': 'isis',\n                                                                                     'source_protocol_codes': 'i '\n                                                                                                              'L2'},\n                                                                  '100.1.0.0/16': { 'active': True,\n                                                                                    'metric': 1100,\n                                                                                    'next_hop': { 'next_hop_list': { 1: { 'index': 1,\n                                                                                                                          'next_hop': '100.100.35.3',\n                                                                                                                          'outgoing_interface': 'BDI1',\n                                                                                                                          'updated': '13:27:15'}}},\n                                                                                    'route': '100.1.0.0/16',\n                                                                                    'route_preference': 115,\n                                                                                    'source_protocol': 'isis',\n                                                                                    'source_protocol_codes': 'i '\n                                                                                                             'L2'},\n                                                                  '100.100.35.0/24': { 'active': True,\n                                                                                       'next_hop': { 'outgoing_interface': { 'BDI1': { 'outgoing_interface': 'BDI1'}}},\n                                                                                       'route': '100.100.35.0/24',\n                                                                                       'source_protocol': 'connected',\n                                                                                       'source_protocol_codes': 'C'},\n                                                                  '100.100.35.5/32': { 'active': True,\n                                                                                       'next_hop': { 'outgoing_interface': { 'BDI1': { 'outgoing_interface': 'BDI1'}}},\n                                                                                       'route': '100.100.35.5/32',\n                                                                                       'source_protocol': 'local',\n                                                                                       'source_protocol_codes': 'L'},\n                                                                  '100.100.45.0/24': { 'active': True,\n                                                                                       'next_hop': { 'outgoing_interface': { 'TenGigabitEthernet0/2/4': { 'outgoing_interface': 'TenGigabitEthernet0/2/4'}}},\n                                                                                       'route': '100.100.45.0/24',\n                                                                                       'source_protocol': 'connected',\n                                                                                       'source_protocol_codes': 'C'},\n                                                                  '100.100.45.5/32': { 'active': True,\n                                                                                       'next_hop': { 'outgoing_interface': { 'TenGigabitEthernet0/2/4': { 'outgoing_interface': 'TenGigabitEthernet0/2/4'}}},\n                                                                                       'route': '100.100.45.5/32',\n                                                                                       'source_protocol': 'local',\n                                                                                       'source_protocol_codes': 'L'},\n                                                                  '100.2.0.0/16': { 'active': True,\n                                                                                    'metric': 1110,\n                                                                                    'next_hop': { 'next_hop_list': { 1: { 'index': 1,\n                                                                                                                          'next_hop': '100.100.35.3',\n                                                                                                                          'outgoing_interface': 'BDI1',\n                                                                                                                          'updated': '13:27:15'}}},\n                                                                                    'route': '100.2.0.0/16',\n                                                                                    'route_preference': 115,\n                                                                                    'source_protocol': 'isis',\n                                                                                    'source_protocol_codes': 'i '\n                                                                                                             'L2'},\n                                                                  '100.4.0.0/16': { 'active': True,\n                                                                                    'metric': 1020,\n                                                                                    'next_hop': { 'next_hop_list': { 1: { 'index': 1,\n                                                                                                                          'next_hop': '100.100.35.3',\n                                                                                                                          'outgoing_interface': 'BDI1',\n                                                                                                                          'updated': '13:27:15'}}},\n                                                                                    'route': '100.4.0.0/16',\n                                                                                    'route_preference': 115,\n                                                                                    'source_protocol': 'isis',\n                                                                                    'source_protocol_codes': 'i '\n                                                                                                             'L2'},\n                                                                  '100.5.0.0/16': { 'active': True,\n                                                                                    'next_hop': { 'outgoing_interface': { 'BDI100': { 'outgoing_interface': 'BDI100'}}},\n                                                                                    'route': '100.5.0.0/16',\n                                                                                    'source_protocol': 'connected',\n                                                                                    'source_protocol_codes': 'C'},\n                                                                  '100.5.200.200/32': { 'active': True,\n                                                                                        'next_hop': { 'outgoing_interface': { 'BDI100': { 'outgoing_interface': 'BDI100'}}},\n                                                                                        'route': '100.5.200.200/32',\n                                                                                        'source_protocol': 'local',\n                                                                                        'source_protocol_codes': 'L'}}}}}}}\n"
     ]
    }
   ],
   "source": [
    "routes = asr903_5.parse('show ip route')\n",
    "pp.pprint(routes)"
   ]
  },
  {
   "source": [
    "## Loading the DB"
   ],
   "cell_type": "markdown",
   "metadata": {}
  },
  {
   "cell_type": "code",
   "execution_count": 11,
   "metadata": {},
   "outputs": [],
   "source": [
    "import sqlite3\n",
    "db_connection = sqlite3.connect('../sqlite/db/checks.db')\n",
    "db_cursor = db_connection.cursor()"
   ]
  },
  {
   "source": [
    "### Functions to insert in the DB"
   ],
   "cell_type": "markdown",
   "metadata": {}
  },
  {
   "cell_type": "code",
   "execution_count": 18,
   "metadata": {},
   "outputs": [],
   "source": [
    "def add_timestamp_db(my_router, test_name, when_tested, current_time):\n",
    "\n",
    "    # Adding a line in the timestamps table\n",
    "    # | MyRouter | TestName | WhenTested | Timestamp |\n",
    "    timestamps_tuple = []\n",
    "    timestamps_tuple.extend((my_router, test_name, when_tested, current_time))\n",
    "    db_cursor.execute('''INSERT INTO timestamps VALUES (?,?,?,?)''', timestamps_tuple)\n",
    "\n",
    "def add_route_summary_db(my_router, vrf, route_source, networks, subnets, current_time):\n",
    "    # Creating a route_summary_tuple to insert in the route_summary table.\n",
    "    # | MyRouter | VRF     | Protocol  | Networks | Subnets | TimeStamp |\n",
    "    route_summary_tuple = []\n",
    "    route_summary_tuple.extend((my_router, vrf, route_source, networks, subnets, current_time))\n",
    "\n",
    "    # Inserting a line for each route_source in the database\n",
    "    db_cursor.execute('''INSERT INTO route_summary VALUES (?,?,?,?,?,?)''', route_summary_tuple)\n",
    "\n",
    "def add_route_db(my_router, vrf, protocol, route, current_time):\n",
    "\n",
    "    # Adding a line in the timestamps table\n",
    "    # | MyRouter | VRF     | Protocol | Route  | Timestamp  |\n",
    "    route_tuple = []\n",
    "    route_tuple.extend((my_router, vrf, protocol, route, current_time))\n",
    "    db_cursor.execute('''INSERT INTO routes VALUES (?,?,?,?,?)''', route_tuple)\n",
    "\n",
    "# Add the whole output as JSON\n",
    "def add_route_db_full(my_router, routes, current_time):\n",
    "\n",
    "    # Adding a line in the timestamps table\n",
    "    # | hostname | test_name | output   | timestamp  |\n",
    "    route_tuple = []\n",
    "    route_tuple.extend((my_router, \"routes\",  routes, current_time))\n",
    "    db_cursor.execute('''INSERT INTO outputs VALUES (?,?,?,?)''', route_tuple)"
   ]
  },
  {
   "source": [
    "### Adding the full route output"
   ],
   "cell_type": "markdown",
   "metadata": {}
  },
  {
   "cell_type": "code",
   "execution_count": 33,
   "metadata": {},
   "outputs": [],
   "source": [
    "my_router = asr903_5.name\n",
    "when_tested = \"before\"\n",
    "\n",
    "routes = asr903_5.parse('show ip route')\n",
    "\n",
    "# Getting the current_time before the test\n",
    "t = time.localtime()\n",
    "current_time = time.strftime(\"%Y-%m-%d %H:%M:%S\", t)\n",
    "\n",
    "# Adding a timestamp for the current test in the DB\n",
    "add_timestamp_db(my_router, \"routes\", when_tested, current_time)\n",
    "\n",
    "\n",
    "add_route_db_full(my_router, json.dumps(routes), current_time)\n",
    "\n",
    "# Comitting the changes\n",
    "db_connection.commit()"
   ]
  },
  {
   "source": [
    "### Converting dict > string > dict"
   ],
   "cell_type": "markdown",
   "metadata": {}
  },
  {
   "source": [
    "import json\n",
    "\n",
    "my_string = json.dumps(routes)\n",
    "print(my_string)\n",
    "\n",
    "json.loads(my_string)"
   ],
   "cell_type": "markdown",
   "metadata": {}
  },
  {
   "source": [
    "## Injecting route_summary information in the database"
   ],
   "cell_type": "markdown",
   "metadata": {}
  },
  {
   "cell_type": "code",
   "execution_count": 22,
   "metadata": {},
   "outputs": [],
   "source": [
    "my_router = asr903_5.name\n",
    "when_tested = \"before\"\n",
    "\n",
    "# Getting the current_time before the test\n",
    "t = time.localtime()\n",
    "current_time = time.strftime(\"%Y-%m-%d %H:%M:%S\", t)\n",
    "\n",
    "# Adding a timestamp for the current test in the DB\n",
    "add_timestamp_db(my_router, \"route_summary\", when_tested, current_time)\n",
    "\n",
    "for vrf in route_summary['vrf']:\n",
    "\n",
    "    # I will create a line in the DB for each protocol (route_source)\n",
    "    for route_source in route_summary['vrf'][vrf]['route_source']:\n",
    "\n",
    "        # Each routing protocol has its own structure. route_source names:\n",
    "            # connected\n",
    "            # static\n",
    "            # isis\n",
    "            # bgp\n",
    "            # internal\n",
    "\n",
    "        # bgp\n",
    "        if route_source == \"bgp\":\n",
    "            for as_number in route_summary['vrf'][vrf]['route_source'][route_source]:\n",
    "                networks = route_summary['vrf'][vrf]['route_source'][route_source][as_number]['networks']\n",
    "                subnets = route_summary['vrf'][vrf]['route_source'][route_source][as_number]['subnets']\n",
    "\n",
    "                add_route_summary_db(my_router, vrf, route_source, networks, subnets, current_time)\n",
    "\n",
    "        # connected\n",
    "        if route_source == \"connected\":\n",
    "            networks = route_summary['vrf'][vrf]['route_source'][route_source]['networks']\n",
    "            subnets = route_summary['vrf'][vrf]['route_source'][route_source]['subnets']\n",
    "                \n",
    "            add_route_summary_db(my_router, vrf, route_source, networks, subnets, current_time)\n",
    "\n",
    "\n",
    "        # internal (has no subnets key)\n",
    "        if route_source == \"internal\":\n",
    "            networks = route_summary['vrf'][vrf]['route_source'][route_source]['networks']\n",
    "            subnets = 0\n",
    "\n",
    "            add_route_summary_db(my_router, vrf, route_source, networks, subnets, current_time)    \n",
    "\n",
    "        # isis\n",
    "        if route_source == \"isis\":\n",
    "            for tag in route_summary['vrf'][vrf]['route_source'][route_source]:\n",
    "                networks = route_summary['vrf'][vrf]['route_source'][route_source][tag]['networks']\n",
    "                subnets = route_summary['vrf'][vrf]['route_source'][route_source][tag]['subnets']\n",
    "\n",
    "                add_route_summary_db(my_router, vrf, route_source, networks, subnets, current_time)\n",
    "\n",
    "        # static\n",
    "        if route_source == \"static\":\n",
    "            networks = route_summary['vrf'][vrf]['route_source'][route_source]['networks']\n",
    "            subnets = 0\n",
    "\n",
    "            add_route_summary_db(my_router, vrf, route_source, networks, subnets, current_time)\n",
    "\n",
    "# Comitting the changes\n",
    "db_connection.commit()"
   ]
  },
  {
   "source": [
    "## Injecting routes information in the database"
   ],
   "cell_type": "markdown",
   "metadata": {}
  },
  {
   "cell_type": "code",
   "execution_count": 21,
   "metadata": {},
   "outputs": [],
   "source": [
    "my_router = asr903_5.name\n",
    "when_tested = \"before\"\n",
    "\n",
    "# Getting the current_time before the test\n",
    "t = time.localtime()\n",
    "current_time = time.strftime(\"%Y-%m-%d %H:%M:%S\", t)\n",
    "\n",
    "# Adding a timestamp for the current test in the DB\n",
    "add_timestamp_db(my_router, \"routes\", when_tested, current_time)\n",
    "\n",
    "for vrf in routes['vrf']:\n",
    "\n",
    "    # For each address_family (ipv4, ipv6)\n",
    "    for address_family in routes['vrf'][vrf]['address_family']:\n",
    "\n",
    "        for route in routes['vrf'][vrf]['address_family'][address_family]['routes']:\n",
    "            protocol = routes['vrf'][vrf]['address_family'][address_family]['routes'][route]['source_protocol']\n",
    "\n",
    "            add_route_db(my_router, vrf, protocol, route, current_time)\n",
    "\n",
    "# Comitting the changes\n",
    "db_connection.commit()"
   ]
  }
 ]
}