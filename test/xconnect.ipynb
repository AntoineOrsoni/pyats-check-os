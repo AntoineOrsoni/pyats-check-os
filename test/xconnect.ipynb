{
 "metadata": {
  "language_info": {
   "codemirror_mode": {
    "name": "ipython",
    "version": 3
   },
   "file_extension": ".py",
   "mimetype": "text/x-python",
   "name": "python",
   "nbconvert_exporter": "python",
   "pygments_lexer": "ipython3",
   "version": "3.7.3-final"
  },
  "orig_nbformat": 2,
  "kernelspec": {
   "name": "python3",
   "display_name": "Python 3.7.3 64-bit ('venv')",
   "metadata": {
    "interpreter": {
     "hash": "5c5087b61a9a834cb935dee166d441f021ac5a957fec40f86369e045e45ac84e"
    }
   }
  }
 },
 "nbformat": 4,
 "nbformat_minor": 2,
 "cells": [
  {
   "source": [
    "## Pre-setup"
   ],
   "cell_type": "markdown",
   "metadata": {}
  },
  {
   "source": [
    "# import the aetest module\n",
    "from pyats import aetest\n",
    "import logging\n",
    "from genie.testbed import load\n",
    "import argparse\n",
    "import sys\n",
    "import pprint\n",
    "\n",
    "# set debug level DEBUG, INFO, WARNING\n",
    "logger = logging.getLogger(__name__)\n",
    "logger.setLevel(logging.INFO)\n",
    "\n",
    "# set pprint\n",
    "pp = pprint.PrettyPrinter(indent = 2)"
   ],
   "cell_type": "code",
   "metadata": {},
   "execution_count": 5,
   "outputs": []
  },
  {
   "source": [
    "## Time for the timestamps"
   ],
   "cell_type": "markdown",
   "metadata": {}
  },
  {
   "cell_type": "code",
   "execution_count": 6,
   "metadata": {},
   "outputs": [
    {
     "output_type": "stream",
     "name": "stdout",
     "text": [
      "2020-11-19 18:06:15\n"
     ]
    }
   ],
   "source": [
    "import time\n",
    "\n",
    "# %Y: full year (4 digits)\n",
    "# %m: month (2 digits)\n",
    "# %d: day (2 digits)\n",
    "# %H: hours\n",
    "# %M: minutes\n",
    "# %S: seconds\n",
    "# Doc: https://docs.python.org/fr/3/library/time.html#time.strftime\n",
    "\n",
    "# I have to reuse these two lines every time I need the current_time.\n",
    "t = time.localtime()\n",
    "current_time = time.strftime(\"%Y-%m-%d %H:%M:%S\", t)\n",
    "\n",
    "print(current_time)"
   ]
  },
  {
   "source": [
    "## Loading the testbed, connecting to the device"
   ],
   "cell_type": "markdown",
   "metadata": {}
  },
  {
   "cell_type": "code",
   "execution_count": 7,
   "metadata": {},
   "outputs": [],
   "source": [
    "testbed = load('/home/anorsoni/Projets/2020-CAP-Altitude/pyats-check-os/testbed.yaml')\n",
    "\n",
    "asr903_5 = testbed.devices[\"ASR903_5\"]\n",
    "\n",
    "asr903_5.connect(init_exec_commands=[],\n",
    "                 init_config_commands=[],\n",
    "                 log_stdout=False)"
   ]
  },
  {
   "source": [
    "## Getting and parsing XCONNECT info\n",
    "### show xconnect all"
   ],
   "cell_type": "markdown",
   "metadata": {}
  },
  {
   "source": [
    "```\n",
    "ASR903_5#sh xconnect all\n",
    "Legend:    XC ST=Xconnect State  S1=Segment1 State  S2=Segment2 State\n",
    "  UP=Up       DN=Down            AD=Admin Down      IA=Inactive\n",
    "  SB=Standby  HS=Hot Standby     RV=Recovering      NH=No Hardware\n",
    "\n",
    "XC ST  Segment 1                         S1 Segment 2                         S2\n",
    "------+---------------------------------+--+---------------------------------+--\n",
    "UP pri   ac Po2:110(Eth VLAN)            UP mpls 10.68.120.250:110            UP\n",
    "UP pri   ac Po2:112(Eth VLAN)            UP mpls 10.75.1.50:112015            UP\n",
    "UP pri   ac Po2:12(Eth VLAN)             UP mpls 10.75.1.50:12015             UP\n",
    "UP pri   ac Po2:138(Eth VLAN)            UP mpls 10.68.120.250:138054         UP\n",
    "UP pri   ac Po2:14(Eth VLAN)             UP mpls 10.75.1.50:14015             UP\n",
    "UP pri   ac Po2:148(Eth VLAN)            UP mpls 10.68.120.250:148054         UP\n",
    "UP pri   ac Po2:15(Eth VLAN)             UP mpls 10.75.1.50:15015             UP\n",
    "UP pri   ac Po2:24(Eth VLAN)             UP mpls 10.75.5.50:24025             UP\n",
    "UP pri   ac Po2:25(Eth VLAN)             UP mpls 10.75.5.50:25025             UP\n",
    "UP pri   ac Po2:132(Eth VLAN)            UP mpls 10.75.1.50:132015            UP\n",
    "UP pri   ac Po2:32(Eth VLAN)             UP mpls 10.75.1.50:32015             UP\n",
    "UP pri   ac Po2:34(Eth VLAN)             UP mpls 10.75.1.50:34015             UP\n",
    "IA pri   ac Po2:34(Eth VLAN)             UP mpls 10.75.5.50:34025             SB\n",
    "UP pri   ac Po2:35(Eth VLAN)             UP mpls 10.75.1.50:35015             UP\n",
    "IA pri   ac Po2:35(Eth VLAN)             UP mpls 10.75.5.50:35025             SB"
   ],
   "cell_type": "markdown",
   "metadata": {}
  },
  {
   "cell_type": "code",
   "execution_count": 8,
   "metadata": {},
   "outputs": [
    {
     "output_type": "stream",
     "name": "stdout",
     "text": [
      "{ 'segment_1': { 'ac Po2:110(Eth VLAN)': { 's1': 'UP',\n                                           'segment_2': { 'mpls 10.68.120.250:110': { 's2': 'UP',\n                                                                                      'st': 'pri',\n                                                                                      'xc': 'UP'}}},\n                 'ac Po2:112(Eth VLAN)': { 's1': 'UP',\n                                           'segment_2': { 'mpls 10.75.1.50:112015': { 's2': 'UP',\n                                                                                      'st': 'pri',\n                                                                                      'xc': 'UP'}}},\n                 'ac Po2:12(Eth VLAN)': { 's1': 'UP',\n                                          'segment_2': { 'mpls 10.75.1.50:12015': { 's2': 'UP',\n                                                                                    'st': 'pri',\n                                                                                    'xc': 'UP'}}},\n                 'ac Po2:132(Eth VLAN)': { 's1': 'UP',\n                                           'segment_2': { 'mpls 10.75.1.50:132015': { 's2': 'UP',\n                                                                                      'st': 'pri',\n                                                                                      'xc': 'UP'}}},\n                 'ac Po2:138(Eth VLAN)': { 's1': 'UP',\n                                           'segment_2': { 'mpls 10.68.120.250:138054': { 's2': 'UP',\n                                                                                         'st': 'pri',\n                                                                                         'xc': 'UP'}}},\n                 'ac Po2:14(Eth VLAN)': { 's1': 'UP',\n                                          'segment_2': { 'mpls 10.75.1.50:14015': { 's2': 'UP',\n                                                                                    'st': 'pri',\n                                                                                    'xc': 'UP'}}},\n                 'ac Po2:148(Eth VLAN)': { 's1': 'UP',\n                                           'segment_2': { 'mpls 10.68.120.250:148054': { 's2': 'UP',\n                                                                                         'st': 'pri',\n                                                                                         'xc': 'UP'}}},\n                 'ac Po2:15(Eth VLAN)': { 's1': 'UP',\n                                          'segment_2': { 'mpls 10.75.1.50:15015': { 's2': 'UP',\n                                                                                    'st': 'pri',\n                                                                                    'xc': 'UP'}}},\n                 'ac Po2:24(Eth VLAN)': { 's1': 'UP',\n                                          'segment_2': { 'mpls 10.75.5.50:24025': { 's2': 'UP',\n                                                                                    'st': 'pri',\n                                                                                    'xc': 'UP'}}},\n                 'ac Po2:25(Eth VLAN)': { 's1': 'UP',\n                                          'segment_2': { 'mpls 10.75.5.50:25025': { 's2': 'UP',\n                                                                                    'st': 'pri',\n                                                                                    'xc': 'UP'}}},\n                 'ac Po2:32(Eth VLAN)': { 's1': 'UP',\n                                          'segment_2': { 'mpls 10.75.1.50:32015': { 's2': 'UP',\n                                                                                    'st': 'pri',\n                                                                                    'xc': 'UP'}}},\n                 'ac Po2:34(Eth VLAN)': { 's1': 'UP',\n                                          'segment_2': { 'mpls 10.75.1.50:34015': { 's2': 'UP',\n                                                                                    'st': 'pri',\n                                                                                    'xc': 'UP'},\n                                                         'mpls 10.75.5.50:34025': { 's2': 'SB',\n                                                                                    'st': 'pri',\n                                                                                    'xc': 'IA'}}},\n                 'ac Po2:35(Eth VLAN)': { 's1': 'UP',\n                                          'segment_2': { 'mpls 10.75.1.50:35015': { 's2': 'UP',\n                                                                                    'st': 'pri',\n                                                                                    'xc': 'UP'},\n                                                         'mpls 10.75.5.50:35025': { 's2': 'SB',\n                                                                                    'st': 'pri',\n                                                                                    'xc': 'IA'}}},\n                 'bd 11': { 's1': 'UP',\n                            'segment_2': { 'vfi v11': { 's2': 'UP',\n                                                        'st': 'pri',\n                                                        'xc': 'UP'}}},\n                 'bd 111': { 's1': 'UP',\n                             'segment_2': { 'vfi v111': { 's2': 'UP',\n                                                          'st': 'pri',\n                                                          'xc': 'UP'}}},\n                 'bd 13': { 's1': 'UP',\n                            'segment_2': { 'vfi v13': { 's2': 'UP',\n                                                        'st': 'pri',\n                                                        'xc': 'UP'}}},\n                 'bd 21': { 's1': 'UP',\n                            'segment_2': { 'vfi v21': { 's2': 'UP',\n                                                        'st': 'pri',\n                                                        'xc': 'UP'}}},\n                 'bd 22': { 's1': 'UP',\n                            'segment_2': { 'vfi v22': { 's2': 'UP',\n                                                        'st': 'pri',\n                                                        'xc': 'UP'}}},\n                 'bd 23': { 's1': 'UP',\n                            'segment_2': { 'vfi v23': { 's2': 'UP',\n                                                        'st': 'pri',\n                                                        'xc': 'UP'}}},\n                 'bd 31': { 's1': 'UP',\n                            'segment_2': { 'vfi v31': { 's2': 'UP',\n                                                        'st': 'pri',\n                                                        'xc': 'UP'}}},\n                 'bd 33': { 's1': 'UP',\n                            'segment_2': { 'vfi v33': { 's2': 'UP',\n                                                        'st': 'pri',\n                                                        'xc': 'UP'}}},\n                 'vfi v11': { 's1': 'UP',\n                              'segment_2': { 'mpls 10.68.120.250:11045': { 's2': 'UP',\n                                                                           'st': 'pri',\n                                                                           'xc': 'UP'},\n                                             'mpls 10.75.1.50:11015': { 's2': 'UP',\n                                                                        'st': 'pri',\n                                                                        'xc': 'UP'}}},\n                 'vfi v111': { 's1': 'UP',\n                               'segment_2': { 'mpls 10.68.120.250:111': { 's2': 'UP',\n                                                                          'st': 'pri',\n                                                                          'xc': 'UP'}}},\n                 'vfi v13': { 's1': 'UP',\n                              'segment_2': { 'mpls 10.68.120.250:13045': { 's2': 'UP',\n                                                                           'st': 'pri',\n                                                                           'xc': 'UP'},\n                                             'mpls 10.75.1.50:13015': { 's2': 'UP',\n                                                                        'st': 'pri',\n                                                                        'xc': 'UP'}}},\n                 'vfi v21': { 's1': 'UP',\n                              'segment_2': { 'mpls 10.68.120.250:21045': { 's2': 'UP',\n                                                                           'st': 'pri',\n                                                                           'xc': 'UP'},\n                                             'mpls 10.75.5.50:21025': { 's2': 'UP',\n                                                                        'st': 'pri',\n                                                                        'xc': 'UP'}}},\n                 'vfi v22': { 's1': 'UP',\n                              'segment_2': { 'mpls 10.68.120.250:22045': { 's2': 'UP',\n                                                                           'st': 'pri',\n                                                                           'xc': 'UP'},\n                                             'mpls 10.75.5.50:22025': { 's2': 'UP',\n                                                                        'st': 'pri',\n                                                                        'xc': 'UP'}}},\n                 'vfi v23': { 's1': 'UP',\n                              'segment_2': { 'mpls 10.68.120.250:23045': { 's2': 'UP',\n                                                                           'st': 'pri',\n                                                                           'xc': 'UP'},\n                                             'mpls 10.75.5.50:23025': { 's2': 'UP',\n                                                                        'st': 'pri',\n                                                                        'xc': 'UP'}}},\n                 'vfi v31': { 's1': 'UP',\n                              'segment_2': { 'mpls 10.75.1.50:31015': { 's2': 'UP',\n                                                                        'st': 'pri',\n                                                                        'xc': 'UP'},\n                                             'mpls 10.75.5.50:31025': { 's2': 'UP',\n                                                                        'st': 'pri',\n                                                                        'xc': 'UP'}}},\n                 'vfi v33': { 's1': 'UP',\n                              'segment_2': { 'mpls 10.75.1.50:33015': { 's2': 'UP',\n                                                                        'st': 'pri',\n                                                                        'xc': 'UP'},\n                                             'mpls 10.75.5.50:33025': { 's2': 'UP',\n                                                                        'st': 'pri',\n                                                                        'xc': 'UP'}}}}}\n"
     ]
    }
   ],
   "source": [
    "xconnect = asr903_5.parse('show xconnect all')\n",
    "pp.pprint(xconnect)"
   ]
  },
  {
   "cell_type": "code",
   "execution_count": 17,
   "metadata": {},
   "outputs": [
    {
     "output_type": "stream",
     "name": "stdout",
     "text": [
      "UP\nUP\nUP\nUP\nUP\nUP\nUP\nUP\nUP\nUP\nUP\nUP\nIA\nUP\nIA\nUP\nUP\nUP\nUP\nUP\nUP\nUP\nUP\nUP\nUP\nUP\nUP\nUP\nUP\nUP\nUP\nUP\nUP\nUP\nUP\nUP\nUP\nUP\n"
     ]
    }
   ],
   "source": [
    "for segment_1 in xconnect['segment_1']:\n",
    "    for segment_2 in xconnect['segment_1'][segment_1]['segment_2']:\n",
    "        print(xconnect['segment_1'][segment_1]['segment_2'][segment_2]['xc'])\n"
   ]
  },
  {
   "cell_type": "code",
   "execution_count": null,
   "metadata": {},
   "outputs": [],
   "source": []
  }
 ]
}