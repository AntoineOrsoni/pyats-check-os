{
 "metadata": {
  "language_info": {
   "codemirror_mode": {
    "name": "ipython",
    "version": 3
   },
   "file_extension": ".py",
   "mimetype": "text/x-python",
   "name": "python",
   "nbconvert_exporter": "python",
   "pygments_lexer": "ipython3",
   "version": "3.7.3-final"
  },
  "orig_nbformat": 2,
  "kernelspec": {
   "name": "python3",
   "display_name": "Python 3.7.3 64-bit ('venv')",
   "metadata": {
    "interpreter": {
     "hash": "5c5087b61a9a834cb935dee166d441f021ac5a957fec40f86369e045e45ac84e"
    }
   }
  }
 },
 "nbformat": 4,
 "nbformat_minor": 2,
 "cells": [
  {
   "source": [
    "## Pre-setup"
   ],
   "cell_type": "markdown",
   "metadata": {}
  },
  {
   "source": [
    "# import the aetest module\n",
    "from pyats import aetest\n",
    "import logging\n",
    "from genie.testbed import load\n",
    "import argparse\n",
    "import sys\n",
    "import pprint\n",
    "\n",
    "# set debug level DEBUG, INFO, WARNING\n",
    "logger = logging.getLogger(__name__)\n",
    "logger.setLevel(logging.INFO)\n",
    "\n",
    "# set pprint\n",
    "pp = pprint.PrettyPrinter(indent = 2)"
   ],
   "cell_type": "code",
   "metadata": {},
   "execution_count": 1,
   "outputs": []
  },
  {
   "source": [
    "## Time for the timestamps"
   ],
   "cell_type": "markdown",
   "metadata": {}
  },
  {
   "cell_type": "code",
   "execution_count": 2,
   "metadata": {},
   "outputs": [
    {
     "output_type": "stream",
     "name": "stdout",
     "text": [
      "2020-11-17 17:38:33\n"
     ]
    }
   ],
   "source": [
    "import time\n",
    "\n",
    "# %Y: full year (4 digits)\n",
    "# %m: month (2 digits)\n",
    "# %d: day (2 digits)\n",
    "# %H: hours\n",
    "# %M: minutes\n",
    "# %S: seconds\n",
    "# Doc: https://docs.python.org/fr/3/library/time.html#time.strftime\n",
    "\n",
    "# I have to reuse these two lines every time I need the current_time.\n",
    "t = time.localtime()\n",
    "current_time = time.strftime(\"%Y-%m-%d %H:%M:%S\", t)\n",
    "\n",
    "print(current_time)"
   ]
  },
  {
   "source": [
    "## Loading the testbed, connecting to the device"
   ],
   "cell_type": "markdown",
   "metadata": {}
  },
  {
   "cell_type": "code",
   "execution_count": 3,
   "metadata": {},
   "outputs": [],
   "source": [
    "testbed = load('/home/anorsoni/Projets/2020-CAP-Altitude/pyats-check-os/testbed.yaml')\n",
    "\n",
    "asr903_5 = testbed.devices[\"ASR903_5\"]\n",
    "\n",
    "asr903_5.connect(init_exec_commands=[],\n",
    "                 init_config_commands=[],\n",
    "                 log_stdout=False)"
   ]
  },
  {
   "source": [
    "## Getting and parsing XCONNECT info\n",
    "### show xconnect all"
   ],
   "cell_type": "markdown",
   "metadata": {}
  },
  {
   "cell_type": "code",
   "execution_count": 4,
   "metadata": {},
   "outputs": [
    {
     "output_type": "stream",
     "name": "stdout",
     "text": [
      "{ 'segment_1': { 'ac Po2:110(Eth VLAN)': { 's1': 'UP',\n                                           'segment_2': { 'mpls 10.68.120.250:110': { 's2': 'UP',\n                                                                                      'st': 'pri',\n                                                                                      'xc': 'UP'}}},\n                 'ac Po2:112(Eth VLAN)': { 's1': 'UP',\n                                           'segment_2': { 'mpls 10.75.1.50:112015': { 's2': 'UP',\n                                                                                      'st': 'pri',\n                                                                                      'xc': 'UP'}}},\n                 'ac Po2:12(Eth VLAN)': { 's1': 'UP',\n                                          'segment_2': { 'mpls 10.75.1.50:12015': { 's2': 'UP',\n                                                                                    'st': 'pri',\n                                                                                    'xc': 'UP'}}},\n                 'ac Po2:132(Eth VLAN)': { 's1': 'UP',\n                                           'segment_2': { 'mpls 10.75.1.50:132015': { 's2': 'UP',\n                                                                                      'st': 'pri',\n                                                                                      'xc': 'UP'}}},\n                 'ac Po2:138(Eth VLAN)': { 's1': 'UP',\n                                           'segment_2': { 'mpls 10.68.120.250:138054': { 's2': 'UP',\n                                                                                         'st': 'pri',\n                                                                                         'xc': 'UP'}}},\n                 'ac Po2:14(Eth VLAN)': { 's1': 'UP',\n                                          'segment_2': { 'mpls 10.75.1.50:14015': { 's2': 'UP',\n                                                                                    'st': 'pri',\n                                                                                    'xc': 'UP'}}},\n                 'ac Po2:148(Eth VLAN)': { 's1': 'UP',\n                                           'segment_2': { 'mpls 10.68.120.250:148054': { 's2': 'UP',\n                                                                                         'st': 'pri',\n                                                                                         'xc': 'UP'}}},\n                 'ac Po2:15(Eth VLAN)': { 's1': 'UP',\n                                          'segment_2': { 'mpls 10.75.1.50:15015': { 's2': 'UP',\n                                                                                    'st': 'pri',\n                                                                                    'xc': 'UP'}}},\n                 'ac Po2:24(Eth VLAN)': { 's1': 'UP',\n                                          'segment_2': { 'mpls 10.75.5.50:24025': { 's2': 'UP',\n                                                                                    'st': 'pri',\n                                                                                    'xc': 'UP'}}},\n                 'ac Po2:25(Eth VLAN)': { 's1': 'UP',\n                                          'segment_2': { 'mpls 10.75.5.50:25025': { 's2': 'UP',\n                                                                                    'st': 'pri',\n                                                                                    'xc': 'UP'}}},\n                 'ac Po2:32(Eth VLAN)': { 's1': 'UP',\n                                          'segment_2': { 'mpls 10.75.1.50:32015': { 's2': 'UP',\n                                                                                    'st': 'pri',\n                                                                                    'xc': 'UP'}}},\n                 'ac Po2:34(Eth VLAN)': { 's1': 'UP',\n                                          'segment_2': { 'mpls 10.75.1.50:34015': { 's2': 'UP',\n                                                                                    'st': 'pri',\n                                                                                    'xc': 'UP'},\n                                                         'mpls 10.75.5.50:34025': { 's2': 'SB',\n                                                                                    'st': 'pri',\n                                                                                    'xc': 'IA'}}},\n                 'ac Po2:35(Eth VLAN)': { 's1': 'UP',\n                                          'segment_2': { 'mpls 10.75.1.50:35015': { 's2': 'UP',\n                                                                                    'st': 'pri',\n                                                                                    'xc': 'UP'},\n                                                         'mpls 10.75.5.50:35025': { 's2': 'SB',\n                                                                                    'st': 'pri',\n                                                                                    'xc': 'IA'}}},\n                 'bd 11': { 's1': 'UP',\n                            'segment_2': { 'vfi v11': { 's2': 'UP',\n                                                        'st': 'pri',\n                                                        'xc': 'UP'}}},\n                 'bd 111': { 's1': 'UP',\n                             'segment_2': { 'vfi v111': { 's2': 'UP',\n                                                          'st': 'pri',\n                                                          'xc': 'UP'}}},\n                 'bd 13': { 's1': 'UP',\n                            'segment_2': { 'vfi v13': { 's2': 'UP',\n                                                        'st': 'pri',\n                                                        'xc': 'UP'}}},\n                 'bd 21': { 's1': 'UP',\n                            'segment_2': { 'vfi v21': { 's2': 'UP',\n                                                        'st': 'pri',\n                                                        'xc': 'UP'}}},\n                 'bd 22': { 's1': 'UP',\n                            'segment_2': { 'vfi v22': { 's2': 'UP',\n                                                        'st': 'pri',\n                                                        'xc': 'UP'}}},\n                 'bd 23': { 's1': 'UP',\n                            'segment_2': { 'vfi v23': { 's2': 'UP',\n                                                        'st': 'pri',\n                                                        'xc': 'UP'}}},\n                 'bd 31': { 's1': 'UP',\n                            'segment_2': { 'vfi v31': { 's2': 'UP',\n                                                        'st': 'pri',\n                                                        'xc': 'UP'}}},\n                 'bd 33': { 's1': 'UP',\n                            'segment_2': { 'vfi v33': { 's2': 'UP',\n                                                        'st': 'pri',\n                                                        'xc': 'UP'}}},\n                 'vfi v11': { 's1': 'UP',\n                              'segment_2': { 'mpls 10.68.120.250:11045': { 's2': 'UP',\n                                                                           'st': 'pri',\n                                                                           'xc': 'UP'},\n                                             'mpls 10.75.1.50:11015': { 's2': 'UP',\n                                                                        'st': 'pri',\n                                                                        'xc': 'UP'}}},\n                 'vfi v111': { 's1': 'UP',\n                               'segment_2': { 'mpls 10.68.120.250:111': { 's2': 'UP',\n                                                                          'st': 'pri',\n                                                                          'xc': 'UP'}}},\n                 'vfi v13': { 's1': 'UP',\n                              'segment_2': { 'mpls 10.68.120.250:13045': { 's2': 'UP',\n                                                                           'st': 'pri',\n                                                                           'xc': 'UP'},\n                                             'mpls 10.75.1.50:13015': { 's2': 'UP',\n                                                                        'st': 'pri',\n                                                                        'xc': 'UP'}}},\n                 'vfi v21': { 's1': 'UP',\n                              'segment_2': { 'mpls 10.68.120.250:21045': { 's2': 'UP',\n                                                                           'st': 'pri',\n                                                                           'xc': 'UP'},\n                                             'mpls 10.75.5.50:21025': { 's2': 'UP',\n                                                                        'st': 'pri',\n                                                                        'xc': 'UP'}}},\n                 'vfi v22': { 's1': 'UP',\n                              'segment_2': { 'mpls 10.68.120.250:22045': { 's2': 'UP',\n                                                                           'st': 'pri',\n                                                                           'xc': 'UP'},\n                                             'mpls 10.75.5.50:22025': { 's2': 'UP',\n                                                                        'st': 'pri',\n                                                                        'xc': 'UP'}}},\n                 'vfi v23': { 's1': 'UP',\n                              'segment_2': { 'mpls 10.68.120.250:23045': { 's2': 'UP',\n                                                                           'st': 'pri',\n                                                                           'xc': 'UP'},\n                                             'mpls 10.75.5.50:23025': { 's2': 'UP',\n                                                                        'st': 'pri',\n                                                                        'xc': 'UP'}}},\n                 'vfi v31': { 's1': 'UP',\n                              'segment_2': { 'mpls 10.75.1.50:31015': { 's2': 'UP',\n                                                                        'st': 'pri',\n                                                                        'xc': 'UP'},\n                                             'mpls 10.75.5.50:31025': { 's2': 'UP',\n                                                                        'st': 'pri',\n                                                                        'xc': 'UP'}}},\n                 'vfi v33': { 's1': 'UP',\n                              'segment_2': { 'mpls 10.75.1.50:33015': { 's2': 'UP',\n                                                                        'st': 'pri',\n                                                                        'xc': 'UP'},\n                                             'mpls 10.75.5.50:33025': { 's2': 'UP',\n                                                                        'st': 'pri',\n                                                                        'xc': 'UP'}}}}}\n"
     ]
    }
   ],
   "source": [
    "xconnect = asr903_5.parse('show xconnect all')\n",
    "pp.pprint(xconnect)"
   ]
  },
  {
   "source": [
    "## Loading the DB"
   ],
   "cell_type": "markdown",
   "metadata": {}
  },
  {
   "cell_type": "code",
   "execution_count": 6,
   "metadata": {},
   "outputs": [],
   "source": [
    "import sqlite3\n",
    "db_connection = sqlite3.connect('../sqlite/db/checks.db')\n",
    "db_cursor = db_connection.cursor()"
   ]
  },
  {
   "source": [
    "### Functions to insert in the DB"
   ],
   "cell_type": "markdown",
   "metadata": {}
  },
  {
   "cell_type": "code",
   "execution_count": 20,
   "metadata": {},
   "outputs": [],
   "source": [
    "def add_timestamp_db(my_router, test_name, when_tested, current_time):\n",
    "\n",
    "    # Adding a line in the timestamps table\n",
    "    # | MyRouter | TestName | WhenTested | Timestamp |\n",
    "    timestamps_tuple = []\n",
    "    timestamps_tuple.extend((my_router, test_name, when_tested, current_time))\n",
    "    db_cursor.execute('''INSERT INTO timestamps VALUES (?,?,?,?)''', timestamps_tuple)\n",
    "\n",
    "def add_route_summary_db(my_router, vrf, route_source, networks, subnets, current_time):\n",
    "    # Creating a route_summary_tuple to insert in the route_summary table.\n",
    "    # | MyRouter | VRF     | Protocol  | Networks | Subnets | TimeStamp |\n",
    "    route_summary_tuple = []\n",
    "    route_summary_tuple.extend((my_router, vrf, route_source, networks, subnets, current_time))\n",
    "\n",
    "    # Inserting a line for each route_source in the database\n",
    "    db_cursor.execute('''INSERT INTO route_summary VALUES (?,?,?,?,?,?)''', route_summary_tuple)\n",
    "\n",
    "def add_route_db(my_router, vrf, protocol, route, current_time):\n",
    "\n",
    "    # Adding a line in the timestamps table\n",
    "    # | MyRouter | VRF     | Protocol | Route  | Timestamp  |\n",
    "    route_tuple = []\n",
    "    route_tuple.extend((my_router, vrf, protocol, route, current_time))\n",
    "    db_cursor.execute('''INSERT INTO routes VALUES (?,?,?,?,?)''', route_tuple)"
   ]
  },
  {
   "source": [
    "## Injecting route_summary information in the database"
   ],
   "cell_type": "markdown",
   "metadata": {}
  },
  {
   "cell_type": "code",
   "execution_count": 22,
   "metadata": {},
   "outputs": [],
   "source": [
    "my_router = asr903_5.name\n",
    "when_tested = \"before\"\n",
    "\n",
    "# Getting the current_time before the test\n",
    "t = time.localtime()\n",
    "current_time = time.strftime(\"%Y-%m-%d %H:%M:%S\", t)\n",
    "\n",
    "# Adding a timestamp for the current test in the DB\n",
    "add_timestamp_db(my_router, \"route_summary\", when_tested, current_time)\n",
    "\n",
    "for vrf in route_summary['vrf']:\n",
    "\n",
    "    # I will create a line in the DB for each protocol (route_source)\n",
    "    for route_source in route_summary['vrf'][vrf]['route_source']:\n",
    "\n",
    "        # Each routing protocol has its own structure. route_source names:\n",
    "            # connected\n",
    "            # static\n",
    "            # isis\n",
    "            # bgp\n",
    "            # internal\n",
    "\n",
    "        # bgp\n",
    "        if route_source == \"bgp\":\n",
    "            for as_number in route_summary['vrf'][vrf]['route_source'][route_source]:\n",
    "                networks = route_summary['vrf'][vrf]['route_source'][route_source][as_number]['networks']\n",
    "                subnets = route_summary['vrf'][vrf]['route_source'][route_source][as_number]['subnets']\n",
    "\n",
    "                add_route_summary_db(my_router, vrf, route_source, networks, subnets, current_time)\n",
    "\n",
    "        # connected\n",
    "        if route_source == \"connected\":\n",
    "            networks = route_summary['vrf'][vrf]['route_source'][route_source]['networks']\n",
    "            subnets = route_summary['vrf'][vrf]['route_source'][route_source]['subnets']\n",
    "                \n",
    "            add_route_summary_db(my_router, vrf, route_source, networks, subnets, current_time)\n",
    "\n",
    "\n",
    "        # internal (has no subnets key)\n",
    "        if route_source == \"internal\":\n",
    "            networks = route_summary['vrf'][vrf]['route_source'][route_source]['networks']\n",
    "            subnets = 0\n",
    "\n",
    "            add_route_summary_db(my_router, vrf, route_source, networks, subnets, current_time)    \n",
    "\n",
    "        # isis\n",
    "        if route_source == \"isis\":\n",
    "            for tag in route_summary['vrf'][vrf]['route_source'][route_source]:\n",
    "                networks = route_summary['vrf'][vrf]['route_source'][route_source][tag]['networks']\n",
    "                subnets = route_summary['vrf'][vrf]['route_source'][route_source][tag]['subnets']\n",
    "\n",
    "                add_route_summary_db(my_router, vrf, route_source, networks, subnets, current_time)\n",
    "\n",
    "        # static\n",
    "        if route_source == \"static\":\n",
    "            networks = route_summary['vrf'][vrf]['route_source'][route_source]['networks']\n",
    "            subnets = 0\n",
    "\n",
    "            add_route_summary_db(my_router, vrf, route_source, networks, subnets, current_time)\n",
    "\n",
    "# Comitting the changes\n",
    "db_connection.commit()"
   ]
  },
  {
   "source": [
    "## Injecting routes information in the database"
   ],
   "cell_type": "markdown",
   "metadata": {}
  },
  {
   "cell_type": "code",
   "execution_count": 21,
   "metadata": {},
   "outputs": [],
   "source": [
    "my_router = asr903_5.name\n",
    "when_tested = \"before\"\n",
    "\n",
    "# Getting the current_time before the test\n",
    "t = time.localtime()\n",
    "current_time = time.strftime(\"%Y-%m-%d %H:%M:%S\", t)\n",
    "\n",
    "# Adding a timestamp for the current test in the DB\n",
    "add_timestamp_db(my_router, \"routes\", when_tested, current_time)\n",
    "\n",
    "for vrf in routes['vrf']:\n",
    "\n",
    "    # For each address_family (ipv4, ipv6)\n",
    "    for address_family in routes['vrf'][vrf]['address_family']:\n",
    "\n",
    "        for route in routes['vrf'][vrf]['address_family'][address_family]['routes']:\n",
    "            protocol = routes['vrf'][vrf]['address_family'][address_family]['routes'][route]['source_protocol']\n",
    "\n",
    "            add_route_db(my_router, vrf, protocol, route, current_time)\n",
    "\n",
    "# Comitting the changes\n",
    "db_connection.commit()"
   ]
  }
 ]
}