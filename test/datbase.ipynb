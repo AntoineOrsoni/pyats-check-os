{
 "metadata": {
  "language_info": {
   "codemirror_mode": {
    "name": "ipython",
    "version": 3
   },
   "file_extension": ".py",
   "mimetype": "text/x-python",
   "name": "python",
   "nbconvert_exporter": "python",
   "pygments_lexer": "ipython3",
   "version": "3.7.3-final"
  },
  "orig_nbformat": 2,
  "kernelspec": {
   "name": "python3",
   "display_name": "Python 3"
  }
 },
 "nbformat": 4,
 "nbformat_minor": 2,
 "cells": [
  {
   "source": [
    "## Loading the database"
   ],
   "cell_type": "markdown",
   "metadata": {}
  },
  {
   "cell_type": "code",
   "execution_count": 28,
   "metadata": {},
   "outputs": [],
   "source": [
    "import sqlite3\n",
    "db_connection = sqlite3.connect('../sqlite/db/checks.db')\n",
    "db_cursor = db_connection.cursor()"
   ]
  },
  {
   "source": [
    "## Setting up the database"
   ],
   "cell_type": "markdown",
   "metadata": {}
  },
  {
   "source": [
    "### isis"
   ],
   "cell_type": "markdown",
   "metadata": {}
  },
  {
   "cell_type": "code",
   "execution_count": null,
   "metadata": {},
   "outputs": [],
   "source": [
    "db_cursor.execute('''CREATE TABLE isis (MyRouter text, Neighbor text, Type text, Interface text, Ip text, Timestamp text)''')\n",
    "db_connection.commit()"
   ]
  },
  {
   "source": [
    "### timestamps"
   ],
   "cell_type": "markdown",
   "metadata": {}
  },
  {
   "cell_type": "code",
   "execution_count": null,
   "metadata": {},
   "outputs": [],
   "source": [
    "db_cursor.execute('''CREATE TABLE timestamps (MyRouter text, TestName text, WhenTested text, TimeStamp text)''')\n",
    "db_connection.commit()"
   ]
  },
  {
   "source": [
    "### route_summary"
   ],
   "cell_type": "markdown",
   "metadata": {}
  },
  {
   "cell_type": "code",
   "execution_count": 6,
   "metadata": {},
   "outputs": [],
   "source": [
    "db_cursor.execute('''CREATE TABLE route_summary (MyRouter text, VRF text, Protocol text, Networks integer, Subnets integer, Timestamp text)''')\n",
    "db_connection.commit()"
   ]
  },
  {
   "cell_type": "code",
   "execution_count": null,
   "metadata": {},
   "outputs": [],
   "source": []
  },
  {
   "source": [
    "## Fecthing data from a DB\n",
    "### Fecthing from table route_summary"
   ],
   "cell_type": "markdown",
   "metadata": {}
  },
  {
   "cell_type": "code",
   "execution_count": 29,
   "metadata": {},
   "outputs": [
    {
     "output_type": "stream",
     "name": "stdout",
     "text": [
      "('ASR903_5', 'default', 'bgp', 0, 0, '2020-11-17 14:44:40')\n('ASR903_5', 'default', 'connected', 0, 7, '2020-11-17 14:50:26')\n('ASR903_5', 'default', 'static', 0, 0, '2020-11-17 14:50:26')\n('ASR903_5', 'default', 'isis', 0, 7, '2020-11-17 14:50:26')\n('ASR903_5', 'default', 'bgp', 0, 0, '2020-11-17 14:50:26')\n('ASR903_5', 'default', 'internal', 2, 0, '2020-11-17 14:50:26')\n('ASR903_5', 'default', 'connected', 0, 7, '2020-11-17 14:50:26')\n('ASR903_5', 'default', 'static', 0, 0, '2020-11-17 14:50:26')\n('ASR903_5', 'default', 'isis', 0, 7, '2020-11-17 14:50:26')\n('ASR903_5', 'default', 'bgp', 0, 0, '2020-11-17 14:50:26')\n('ASR903_5', 'default', 'internal', 2, 0, '2020-11-17 14:50:26')\n('ASR903_5', 'default', 'connected', 0, 7, '2020-11-17 14:50:26')\n('ASR903_5', 'default', 'static', 0, 0, '2020-11-17 14:50:26')\n('ASR903_5', 'default', 'isis', 0, 7, '2020-11-17 14:50:26')\n('ASR903_5', 'default', 'bgp', 0, 0, '2020-11-17 14:50:26')\n('ASR903_5', 'default', 'internal', 2, 0, '2020-11-17 14:50:26')\n('ASR903_5', 'default', 'connected', 0, 7, '2020-11-17 14:50:26')\n('ASR903_5', 'default', 'static', 0, 0, '2020-11-17 14:50:26')\n('ASR903_5', 'default', 'isis', 0, 7, '2020-11-17 14:50:26')\n('ASR903_5', 'default', 'bgp', 0, 0, '2020-11-17 14:50:26')\n('ASR903_5', 'default', 'internal', 2, 0, '2020-11-17 14:50:26')\n('ASR903_5', 'default', 'connected', 0, 7, '2020-11-17 14:50:26')\n('ASR903_5', 'default', 'static', 0, 0, '2020-11-17 14:50:26')\n('ASR903_5', 'default', 'isis', 0, 7, '2020-11-17 14:50:26')\n('ASR903_5', 'default', 'bgp', 0, 0, '2020-11-17 14:50:26')\n('ASR903_5', 'default', 'internal', 2, 0, '2020-11-17 14:50:26')\n('ASR903_5', 'default', 'connected', 0, 7, '2020-11-17 14:50:26')\n('ASR903_5', 'default', 'static', 0, 0, '2020-11-17 14:50:26')\n('ASR903_5', 'default', 'isis', 0, 7, '2020-11-17 14:50:26')\n('ASR903_5', 'default', 'bgp', 0, 0, '2020-11-17 14:50:26')\n('ASR903_5', 'default', 'internal', 2, 0, '2020-11-17 14:50:26')\n('ASR903_5', 'default', 'connected', 0, 7, '2020-11-17 14:50:26')\n('ASR903_5', 'default', 'static', 0, 0, '2020-11-17 14:50:26')\n('ASR903_5', 'default', 'isis', 0, 7, '2020-11-17 14:50:26')\n('ASR903_5', 'default', 'bgp', 0, 0, '2020-11-17 14:50:26')\n('ASR903_5', 'default', 'internal', 2, 0, '2020-11-17 14:50:26')\n('ASR903_5', 'default', 'connected', 0, 7, '2020-11-17 15:12:03')\n('ASR903_5', 'default', 'static', 0, 0, '2020-11-17 15:12:03')\n('ASR903_5', 'default', 'isis', 0, 7, '2020-11-17 15:12:03')\n('ASR903_5', 'default', 'bgp', 0, 0, '2020-11-17 15:12:03')\n('ASR903_5', 'default', 'internal', 2, 0, '2020-11-17 15:12:03')\n('ASR903_5', 'default', 'connected', 0, 7, '2020-11-17 15:12:15')\n('ASR903_5', 'default', 'static', 0, 0, '2020-11-17 15:12:15')\n('ASR903_5', 'default', 'isis', 0, 7, '2020-11-17 15:12:15')\n('ASR903_5', 'default', 'bgp', 0, 0, '2020-11-17 15:12:15')\n('ASR903_5', 'default', 'internal', 2, 0, '2020-11-17 15:12:15')\n"
     ]
    }
   ],
   "source": [
    "db_cursor.execute('''SELECT * FROM route_summary''')\n",
    "for line in db_cursor.fetchall():\n",
    "    print(line)"
   ]
  },
  {
   "source": [
    "### Fecthing from table timestamps"
   ],
   "cell_type": "markdown",
   "metadata": {}
  },
  {
   "cell_type": "code",
   "execution_count": 8,
   "metadata": {},
   "outputs": [
    {
     "output_type": "stream",
     "name": "stdout",
     "text": [
      "('ASR903_5', 'isis', 'before', '2020-11-17 11:47:12')\n('ASR903_5', 'isis', 'before', '2020-11-17 11:51:45')\n('ASR903_5', 'route_summary', 'before', '2020-11-17 14:50:26')\n('ASR903_5', 'route_summary', 'before', '2020-11-17 15:08:36')\n('ASR903_5', 'route_summary', 'before', '2020-11-17 15:09:15')\n('ASR903_5', 'route_summary', 'before', '2020-11-17 15:09:19')\n('ASR903_5', 'route_summary', 'before', '2020-11-17 15:10:10')\n('ASR903_5', 'route_summary', 'before', '2020-11-17 15:10:13')\n('ASR903_5', 'route_summary', 'before', '2020-11-17 15:11:04')\n('ASR903_5', 'route_summary', 'before', '2020-11-17 15:12:03')\n('ASR903_5', 'route_summary', 'before', '2020-11-17 15:12:15')\n"
     ]
    }
   ],
   "source": [
    "db_cursor.execute('''SELECT * FROM timestamps''')\n",
    "for line in db_cursor.fetchall():\n",
    "    print(line)"
   ]
  },
  {
   "source": [
    "### Fetching from table isis"
   ],
   "cell_type": "markdown",
   "metadata": {}
  },
  {
   "cell_type": "code",
   "execution_count": 9,
   "metadata": {},
   "outputs": [
    {
     "output_type": "stream",
     "name": "stdout",
     "text": [
      "('ASR903_5', 'ASR903_3', 'L2', 'BD1', '100.100.35.3', '2020-11-17 11:47:12')\n('ASR903_5', 'ASR903_4', 'L2', 'Te0/2/4', '100.100.45.4', '2020-11-17 11:47:12')\n('ASR903_5', 'ASR903_3', 'L2', 'BD1', '100.100.35.3', '2020-11-17 11:51:45')\n('ASR903_5', 'ASR903_4', 'L2', 'Te0/2/4', '100.100.45.4', '2020-11-17 11:51:45')\n"
     ]
    }
   ],
   "source": [
    "db_cursor.execute('''SELECT * FROM isis''')\n",
    "for line in db_cursor.fetchall():\n",
    "    print(line)"
   ]
  },
  {
   "source": [
    "## Delete table lines\n",
    "### Delete line from route_summary"
   ],
   "cell_type": "markdown",
   "metadata": {}
  },
  {
   "cell_type": "code",
   "execution_count": 31,
   "metadata": {},
   "outputs": [
    {
     "output_type": "error",
     "ename": "OperationalError",
     "evalue": "database is locked",
     "traceback": [
      "\u001b[0;31m---------------------------------------------------------------------------\u001b[0m",
      "\u001b[0;31mOperationalError\u001b[0m                          Traceback (most recent call last)",
      "\u001b[0;32m<ipython-input-31-4e030fd1a2d5>\u001b[0m in \u001b[0;36m<module>\u001b[0;34m\u001b[0m\n\u001b[0;32m----> 1\u001b[0;31m \u001b[0mdb_cursor\u001b[0m\u001b[0;34m.\u001b[0m\u001b[0mexecute\u001b[0m\u001b[0;34m(\u001b[0m\u001b[0;34m'''DELETE FROM route_summary'''\u001b[0m\u001b[0;34m)\u001b[0m\u001b[0;34m\u001b[0m\u001b[0;34m\u001b[0m\u001b[0m\n\u001b[0m",
      "\u001b[0;31mOperationalError\u001b[0m: database is locked"
     ]
    }
   ],
   "source": [
    "db_cursor.execute('''DELETE FROM route_summary''')"
   ]
  },
  {
   "cell_type": "code",
   "execution_count": null,
   "metadata": {},
   "outputs": [],
   "source": []
  }
 ]
}