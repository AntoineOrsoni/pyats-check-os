{
 "metadata": {
  "language_info": {
   "codemirror_mode": {
    "name": "ipython",
    "version": 3
   },
   "file_extension": ".py",
   "mimetype": "text/x-python",
   "name": "python",
   "nbconvert_exporter": "python",
   "pygments_lexer": "ipython3",
   "version": "3.7.3-final"
  },
  "orig_nbformat": 2,
  "kernelspec": {
   "name": "python3",
   "display_name": "Python 3"
  }
 },
 "nbformat": 4,
 "nbformat_minor": 2,
 "cells": [
  {
   "source": [
    "## Loading the database"
   ],
   "cell_type": "markdown",
   "metadata": {}
  },
  {
   "cell_type": "code",
   "execution_count": null,
   "metadata": {},
   "outputs": [],
   "source": [
    "import sqlite3\n",
    "db_connection = sqlite3.connect('../sqlite/db/checks.db')\n",
    "db_cursor = db_connection.cursor()"
   ]
  },
  {
   "source": [
    "## Setting up the database"
   ],
   "cell_type": "markdown",
   "metadata": {}
  },
  {
   "cell_type": "code",
   "execution_count": null,
   "metadata": {},
   "outputs": [],
   "source": [
    "db_cursor.execute('''CREATE TABLE isis (MyRouter text, Neighbor text, Type text, Interface text, Ip text, Timestamp text)''')\n",
    "db_cursor.execute('''CREATE TABLE timestamps (MyRouter text, TestName text, WhenTested text, TimeStamp text)''')\n",
    "db_connection.commit()"
   ]
  }
 ]
}