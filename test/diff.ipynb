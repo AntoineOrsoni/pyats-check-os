{
 "metadata": {
  "language_info": {
   "codemirror_mode": {
    "name": "ipython",
    "version": 3
   },
   "file_extension": ".py",
   "mimetype": "text/x-python",
   "name": "python",
   "nbconvert_exporter": "python",
   "pygments_lexer": "ipython3",
   "version": "3.7.3-final"
  },
  "orig_nbformat": 2,
  "kernelspec": {
   "name": "python3",
   "display_name": "Python 3"
  }
 },
 "nbformat": 4,
 "nbformat_minor": 2,
 "cells": [
  {
   "source": [
    "## Loading the database"
   ],
   "cell_type": "markdown",
   "metadata": {}
  },
  {
   "cell_type": "code",
   "execution_count": 3,
   "metadata": {},
   "outputs": [],
   "source": [
    "import sqlite3\n",
    "db_connection = sqlite3.connect('../sqlite/db/checks.db')\n",
    "db_cursor = db_connection.cursor()"
   ]
  },
  {
   "source": [
    "### Getting information from timestamps"
   ],
   "cell_type": "markdown",
   "metadata": {}
  },
  {
   "cell_type": "code",
   "execution_count": 5,
   "metadata": {},
   "outputs": [
    {
     "output_type": "stream",
     "name": "stdout",
     "text": [
      "('ASR903_5', 'isis', 'before', '2020-11-17 11:47:12')\n('ASR903_5', 'isis', 'before', '2020-11-17 11:51:45')\n('ASR903_5', 'route_summary', 'before', '2020-11-17 14:50:26')\n('ASR903_5', 'route_summary', 'before', '2020-11-17 15:08:36')\n('ASR903_5', 'route_summary', 'before', '2020-11-17 15:09:15')\n('ASR903_5', 'route_summary', 'before', '2020-11-17 15:09:19')\n('ASR903_5', 'route_summary', 'before', '2020-11-17 15:10:10')\n('ASR903_5', 'route_summary', 'before', '2020-11-17 15:10:13')\n('ASR903_5', 'route_summary', 'before', '2020-11-17 15:11:04')\n('ASR903_5', 'route_summary', 'before', '2020-11-17 15:12:03')\n('ASR903_5', 'route_summary', 'before', '2020-11-17 15:12:15')\n('ASR903_5', 'route_summary', 'before', '2020-11-17 15:27:33')\n('ASR903_5', 'route_summary', 'before', '2020-11-17 15:30:10')\n('ASR903_5', 'routes', 'before', '2020-11-17 16:57:38')\n('ASR903_5', 'routes', 'before', '2020-11-17 16:57:56')\n('ASR903_5', 'routes', 'before', '2020-11-17 16:58:35')\n('ASR903_5', 'routes', 'before', '2020-11-17 16:59:05')\n('ASR903_5', 'routes', 'before', '2020-11-17 16:59:08')\n('ASR903_5', 'route_summary', 'before', '2020-11-17 16:59:31')\n('ASR903_5', 'routes', 'before', '2020-11-17 16:59:46')\n('ASR903_5', 'routes', 'before', '2020-11-17 17:00:48')\n('ASR903_5', 'route_summary', 'before', '2020-11-17 17:04:22')\n"
     ]
    }
   ],
   "source": [
    "# Getting all lines\n",
    "db_cursor.execute('''SELECT * FROM timestamps''')\n",
    "for line in db_cursor.fetchall():\n",
    "    print(line)"
   ]
  },
  {
   "cell_type": "code",
   "execution_count": 9,
   "metadata": {},
   "outputs": [
    {
     "output_type": "stream",
     "name": "stdout",
     "text": [
      "('ASR903_5', 'isis', 'before', '2020-11-17 11:47:12')\n('ASR903_5', 'isis', 'before', '2020-11-17 11:51:45')\n"
     ]
    }
   ],
   "source": [
    "# Getting the lines for specific TestName and WhenTested = before\n",
    "db_cursor.execute('''SELECT * FROM timestamps WHERE TestName = \"isis\" AND WhenTested = \"before\"''')\n",
    "for line in db_cursor.fetchall():\n",
    "    print(line)"
   ]
  },
  {
   "cell_type": "code",
   "execution_count": 23,
   "metadata": {},
   "outputs": [
    {
     "output_type": "stream",
     "name": "stdout",
     "text": [
      "('ASR903_5', 'isis', 'before', '2020-11-17 11:51:45')\n"
     ]
    }
   ],
   "source": [
    "my_router = 'ASR903_5'\n",
    "filter_tuple = []\n",
    "# the `,` avoids that the .extend() iterates through the string\n",
    "# makes filter_tuple = ['A', 'S', 'R' ...]\n",
    "filter_tuple.extend((my_router,))\n",
    "\n",
    "# Getting the lines for specific TestName and WhenTested = before\n",
    "# Only the oldest\n",
    "# fetchone() is enough as I only have one entry (I should...)\n",
    "db_cursor.execute('''   SELECT * FROM timestamps \n",
    "                        WHERE TestName = \"isis\" AND WhenTested = \"before\" AND MyRouter = (?)\n",
    "                        ORDER BY Timestamp DESC\n",
    "                        LIMIT 1''', filter_tuple)\n",
    "\n",
    "timestamp_test_before_tuple = db_cursor.fetchone()\n",
    "\n",
    "print(timestamp_test_before_tuple)"
   ]
  },
  {
   "cell_type": "code",
   "execution_count": 32,
   "metadata": {},
   "outputs": [
    {
     "output_type": "stream",
     "name": "stdout",
     "text": [
      "('ASR903_5', 'ASR903_3', 'L2', 'BD1', '100.100.35.3', '2020-11-17 11:51:45')\n('ASR903_5', 'ASR903_4', 'L2', 'Te0/2/4', '100.100.45.4', '2020-11-17 11:51:45')\n"
     ]
    }
   ],
   "source": [
    "# filter_tuple is only for data, not for table names\n",
    "# https://stackoverflow.com/questions/51312952/python-sqlite3-using-f-strings-for-update-database-function\n",
    "\n",
    "filter_tuple = []\n",
    "my_router = timestamp_test_before_tuple[0]\n",
    "table_name = timestamp_test_before_tuple[1]\n",
    "timestamp = timestamp_test_before_tuple[3]\n",
    "\n",
    "filter_tuple.extend((my_router, timestamp))\n",
    "\n",
    "db_cursor.execute(f'''  SELECT * FROM {table_name} \n",
    "                        WHERE MyRouter = (?) AND Timestamp = (?)''', filter_tuple)\n",
    "\n",
    "isis_before = db_cursor.fetchall()\n",
    "for line in isis_before:\n",
    "    print(line)"
   ]
  },
  {
   "cell_type": "code",
   "execution_count": 42,
   "metadata": {},
   "outputs": [
    {
     "output_type": "stream",
     "name": "stdout",
     "text": [
      "{'MyRouter': 'ASR903_5', 'Neighbor': 'ASR903_2', 'Type': 'L2', 'Interface': 'BD1', 'Ip': '100.100.35.2', 'Timestamp': '2020-11-17 11:51:45'}\n{'MyRouter': 'ASR903_5', 'Neighbor': 'ASR903_3', 'Type': 'L2', 'Interface': 'Te0/2/4', 'Ip': '100.100.43.4', 'Timestamp': '2020-11-17 11:51:45'}\n"
     ]
    }
   ],
   "source": [
    "isis_after = [{'MyRouter': 'ASR903_5', 'Neighbor': 'ASR903_2', 'Type': 'L2', 'Interface': 'BD1', 'Ip': '100.100.35.2', 'Timestamp': '2020-11-17 11:51:45'},{'MyRouter': 'ASR903_5', 'Neighbor': 'ASR903_3', 'Type': 'L2', 'Interface': 'Te0/2/4', 'Ip': '100.100.43.4', 'Timestamp': '2020-11-17 11:51:45'}]\n",
    "\n",
    "for line in isis_after:\n",
    "    print(line)"
   ]
  },
  {
   "cell_type": "code",
   "execution_count": 40,
   "metadata": {},
   "outputs": [
    {
     "output_type": "stream",
     "name": "stdout",
     "text": [
      "{'MyRouter': 'ASR903_5', 'Neighbor': 'ASR903_3', 'Type': 'L2', 'Interface': 'BD1', 'Ip': '100.100.35.3', 'Timestamp': '2020-11-17 11:51:45'}\n{'MyRouter': 'ASR903_5', 'Neighbor': 'ASR903_4', 'Type': 'L2', 'Interface': 'Te0/2/4', 'Ip': '100.100.45.4', 'Timestamp': '2020-11-17 11:51:45'}\n"
     ]
    }
   ],
   "source": [
    "def dict_factory(cursor, row):\n",
    "    d = {}\n",
    "    for idx, col in enumerate(cursor.description):\n",
    "        d[col[0]] = row[idx]\n",
    "    return d\n",
    "\n",
    "db_connection.row_factory = dict_factory\n",
    "db_cursor = db_connection.cursor()\n",
    "\n",
    "db_cursor.execute(f'''  SELECT * FROM {table_name} \n",
    "                        WHERE MyRouter = (?) AND Timestamp = (?)''', filter_tuple)\n",
    "\n",
    "isis_before = db_cursor.fetchall()\n",
    "for line in isis_before:\n",
    "    print(line)\n",
    "\n",
    "\n",
    "\n"
   ]
  },
  {
   "source": [
    "## Getting the information for the routes"
   ],
   "cell_type": "markdown",
   "metadata": {}
  },
  {
   "cell_type": "code",
   "execution_count": 54,
   "metadata": {},
   "outputs": [],
   "source": [
    "my_router = 'ASR903_5'\n",
    "filter_tuple = []\n",
    "# the `,` avoids that the .extend() iterates through the string\n",
    "# makes filter_tuple = ['A', 'S', 'R' ...]\n",
    "filter_tuple.extend((my_router,))\n",
    "\n",
    "# Getting the lines for specific TestName and WhenTested = before\n",
    "# Only the oldest\n",
    "# fetchone() is enough as I only have one entry (I should...)\n",
    "db_cursor.execute('''   SELECT * FROM timestamps \n",
    "                        WHERE TestName = \"routes\" AND WhenTested = \"before\" AND MyRouter = (?)\n",
    "                        ORDER BY Timestamp DESC\n",
    "                        LIMIT 1''', filter_tuple)\n",
    "\n",
    "# timestamp_test_before_tuple is the oldest line in the DB, for the specified (MyRouter, TestName)\n",
    "timestamp_test_before_tuple = db_cursor.fetchone()\n",
    "\n",
    "# filter_tuple is only for data, not for table names\n",
    "# https://stackoverflow.com/questions/51312952/python-sqlite3-using-f-strings-for-update-database-function\n",
    "\n",
    "filter_tuple = []\n",
    "my_router = timestamp_test_before_tuple['MyRouter']\n",
    "table_name = timestamp_test_before_tuple['TestName']\n",
    "timestamp = timestamp_test_before_tuple['Timestamp']\n",
    "\n",
    "filter_tuple.extend((my_router, timestamp))\n",
    "\n",
    "db_cursor.execute(f'''  SELECT * FROM {table_name} \n",
    "                        WHERE MyRouter = (?) AND Timestamp = (?)''', filter_tuple)\n",
    "\n",
    "routes_before = db_cursor.fetchall()\n"
   ]
  },
  {
   "cell_type": "code",
   "execution_count": 56,
   "metadata": {},
   "outputs": [],
   "source": [
    "routes_after = [{'MyRouter': 'ASR903_5', 'TestName': 'routes', 'WhenTested': 'before', 'Timestamp': '2020-11-17 17:00:48'}, {'MyRouter': 'ASR903_5', 'VRF': 'default', 'Protocol': 'connected', 'Route': '10.67.23.25/32', 'Timestamp': '2020-11-17 17:00:48'}, {'MyRouter': 'ASR903_5', 'VRF': 'default', 'Protocol': 'isis', 'Route': '10.67.120.250/32', 'Timestamp': '2020-11-17 17:00:48'}, {'MyRouter': 'ASR903_5', 'VRF': 'default', 'Protocol': 'isis', 'Route': '10.75.1.50/32', 'Timestamp': '2020-11-17 17:00:48'}, {'MyRouter': 'ASR903_5', 'VRF': 'default', 'Protocol': 'isis', 'Route': '10.75.5.50/32', 'Timestamp': '2020-11-17 17:00:48'}, {'MyRouter': 'ASR903_5', 'VRF': 'default', 'Protocol': 'isis', 'Route': '100.1.0.0/16', 'Timestamp': '2020-11-17 17:00:48'}, {'MyRouter': 'ASR903_5', 'VRF': 'default', 'Protocol': 'isis', 'Route': '100.2.0.0/16', 'Timestamp': '2020-11-17 17:00:48'}, {'MyRouter': 'ASR903_5', 'VRF': 'default', 'Protocol': 'isis', 'Route': '100.4.0.0/16', 'Timestamp': '2020-11-17 17:00:48'}, {'MyRouter': 'ASR903_5', 'VRF': 'default', 'Protocol': 'connected', 'Route': '100.5.0.0/16', 'Timestamp': '2020-11-17 17:00:48'}, {'MyRouter': 'ASR903_5', 'VRF': 'default', 'Protocol': 'connected', 'Route': '100.100.35.0/24', 'Timestamp': '2020-11-17 17:00:48'}, {'MyRouter': 'ASR903_5', 'VRF': 'default', 'Protocol': 'local', 'Route': '100.100.35.5/32', 'Timestamp': '2020-11-17 17:00:48'}, {'MyRouter': 'ASR903_5', 'VRF': 'default', 'Protocol': 'connected', 'Route': '100.100.45.0/24', 'Timestamp': '2020-11-17 17:00:48'}, {'MyRouter': 'ASR903_5', 'VRF': 'default', 'Protocol': 'local', 'Route': '100.100.45.5/32', 'Timestamp': '2020-11-17 17:00:48'}]"
   ]
  },
  {
   "source": [
    "## Diff with Genie"
   ],
   "cell_type": "markdown",
   "metadata": {}
  },
  {
   "cell_type": "code",
   "execution_count": 46,
   "metadata": {},
   "outputs": [
    {
     "output_type": "stream",
     "name": "stdout",
     "text": [
      " 0:\n- Ip: 100.100.35.3\n+ Ip: 100.100.35.2\n- Neighbor: ASR903_3\n+ Neighbor: ASR903_2\n 1:\n- Ip: 100.100.45.4\n+ Ip: 100.100.43.4\n- Neighbor: ASR903_4\n+ Neighbor: ASR903_3\n"
     ]
    }
   ],
   "source": [
    "from genie.utils.diff import Diff\n",
    "\n",
    "## isis\n",
    "dd = Diff(isis_before, isis_after)\n",
    "dd.findDiff()\n",
    "\n",
    "print(dd)"
   ]
  },
  {
   "cell_type": "code",
   "execution_count": 57,
   "metadata": {},
   "outputs": [
    {
     "output_type": "stream",
     "name": "stdout",
     "text": [
      "-index[13]: \n- MyRouter: ASR903_5\n- Protocol: local\n- Route: 100.100.45.5/32\n- Timestamp: 2020-11-17 17:00:48\n- VRF: default\n 0:\n- Protocol: connected\n- Route: 10.67.23.250/32\n+ TestName: routes\n- VRF: default\n+ WhenTested: before\n 1:\n- Protocol: isis\n+ Protocol: connected\n- Route: 10.67.120.250/32\n+ Route: 10.67.23.25/32\n 2:\n- Route: 10.68.120.250/32\n+ Route: 10.67.120.250/32\n 9:\n- Protocol: local\n+ Protocol: connected\n- Route: 100.5.200.200/32\n+ Route: 100.100.35.0/24\n 10:\n- Protocol: connected\n+ Protocol: local\n- Route: 100.100.35.0/24\n+ Route: 100.100.35.5/32\n 11:\n- Protocol: local\n+ Protocol: connected\n- Route: 100.100.35.5/32\n+ Route: 100.100.45.0/24\n 12:\n- Protocol: connected\n+ Protocol: local\n- Route: 100.100.45.0/24\n+ Route: 100.100.45.5/32\n"
     ]
    }
   ],
   "source": [
    "from genie.utils.diff import Diff\n",
    "\n",
    "## routes\n",
    "dd = Diff(routes_before, routes_after)\n",
    "dd.findDiff()\n",
    "\n",
    "print(dd)"
   ]
  },
  {
   "source": [
    "## Testing with real output for the routes"
   ],
   "cell_type": "markdown",
   "metadata": {}
  },
  {
   "cell_type": "code",
   "execution_count": 63,
   "metadata": {},
   "outputs": [],
   "source": [
    "test_routes_before = { 'vrf': { 'default': { 'address_family': { 'ipv4': { 'routes': { '10.67.120.250/32': { 'active': True,\n",
    "                                                                                        'metric': 1000,\n",
    "                                                                                        'next_hop': { 'next_hop_list': { 1: { 'index': 1,\n",
    "                                                                                                                              'next_hop': '100.100.35.3',\n",
    "                                                                                                                              'outgoing_interface': 'BDI1',\n",
    "                                                                                                                              'updated': '00:08:50'}}},\n",
    "                                                                                        'route': '10.67.120.250/32',\n",
    "                                                                                        'route_preference': 115,\n",
    "                                                                                        'source_protocol': 'isis',\n",
    "                                                                                        'source_protocol_codes': 'i '\n",
    "                                                                                                                 'L2'},\n",
    "                                                                  '10.67.23.250/32': { 'active': True,\n",
    "                                                                                       'next_hop': { 'outgoing_interface': { 'Loopback0': { 'outgoing_interface': 'Loopback0'}}},\n",
    "                                                                                       'route': '10.67.23.250/32',\n",
    "                                                                                       'source_protocol': 'connected',\n",
    "                                                                                       'source_protocol_codes': 'C'},\n",
    "                                                                  '10.68.120.250/32': { 'active': True,\n",
    "                                                                                        'metric': 1020,\n",
    "                                                                                        'next_hop': { 'next_hop_list': { 1: { 'index': 1,\n",
    "                                                                                                                              'next_hop': '100.100.35.3',\n",
    "                                                                                                                              'outgoing_interface': 'BDI1',\n",
    "                                                                                                                              'updated': '00:08:50'}}},\n",
    "                                                                                        'route': '10.68.120.250/32',\n",
    "                                                                                        'route_preference': 115,\n",
    "                                                                                        'source_protocol': 'isis',\n",
    "                                                                                        'source_protocol_codes': 'i '\n",
    "                                                                                                                 'L2'},\n",
    "                                                                  '10.75.1.50/32': { 'active': True,\n",
    "                                                                                     'metric': 1100,\n",
    "                                                                                     'next_hop': { 'next_hop_list': { 1: { 'index': 1,\n",
    "                                                                                                                           'next_hop': '100.100.35.3',\n",
    "                                                                                                                           'outgoing_interface': 'BDI1',\n",
    "                                                                                                                           'updated': '00:08:50'}}},\n",
    "                                                                                     'route': '10.75.1.50/32',\n",
    "                                                                                     'route_preference': 115,\n",
    "                                                                                     'source_protocol': 'isis',\n",
    "                                                                                     'source_protocol_codes': 'i '\n",
    "                                                                                                              'L2'},\n",
    "                                                                  '10.75.5.50/32': { 'active': True,\n",
    "                                                                                     'metric': 1110,\n",
    "                                                                                     'next_hop': { 'next_hop_list': { 1: { 'index': 1,\n",
    "                                                                                                                           'next_hop': '100.100.35.3',\n",
    "                                                                                                                           'outgoing_interface': 'BDI1',\n",
    "                                                                                                                           'updated': '00:08:50'}}},\n",
    "                                                                                     'route': '10.75.5.50/32',\n",
    "                                                                                     'route_preference': 115,\n",
    "                                                                                     'source_protocol': 'isis',\n",
    "                                                                                     'source_protocol_codes': 'i '\n",
    "                                                                                                              'L2'},\n",
    "                                                                  '100.1.0.0/16': { 'active': True,\n",
    "                                                                                    'metric': 1100,\n",
    "                                                                                    'next_hop': { 'next_hop_list': { 1: { 'index': 1,\n",
    "                                                                                                                          'next_hop': '100.100.35.3',\n",
    "                                                                                                                          'outgoing_interface': 'BDI1',\n",
    "                                                                                                                          'updated': '00:08:50'}}},\n",
    "                                                                                    'route': '100.1.0.0/16',\n",
    "                                                                                    'route_preference': 115,\n",
    "                                                                                    'source_protocol': 'isis',\n",
    "                                                                                    'source_protocol_codes': 'i '\n",
    "                                                                                                             'L2'},\n",
    "                                                                  '100.100.35.0/24': { 'active': True,\n",
    "                                                                                       'next_hop': { 'outgoing_interface': { 'BDI1': { 'outgoing_interface': 'BDI1'}}},\n",
    "                                                                                       'route': '100.100.35.0/24',\n",
    "                                                                                       'source_protocol': 'connected',\n",
    "                                                                                       'source_protocol_codes': 'C'},\n",
    "                                                                  '100.100.35.5/32': { 'active': True,\n",
    "                                                                                       'next_hop': { 'outgoing_interface': { 'BDI1': { 'outgoing_interface': 'BDI1'}}},\n",
    "                                                                                       'route': '100.100.35.5/32',\n",
    "                                                                                       'source_protocol': 'local',\n",
    "                                                                                       'source_protocol_codes': 'L'},\n",
    "                                                                  '100.100.45.0/24': { 'active': True,\n",
    "                                                                                       'next_hop': { 'outgoing_interface': { 'TenGigabitEthernet0/2/4': { 'outgoing_interface': 'TenGigabitEthernet0/2/4'}}},\n",
    "                                                                                       'route': '100.100.45.0/24',\n",
    "                                                                                       'source_protocol': 'connected',\n",
    "                                                                                       'source_protocol_codes': 'C'},\n",
    "                                                                  '100.100.45.5/32': { 'active': True,\n",
    "                                                                                       'next_hop': { 'outgoing_interface': { 'TenGigabitEthernet0/2/4': { 'outgoing_interface': 'TenGigabitEthernet0/2/4'}}},\n",
    "                                                                                       'route': '100.100.45.5/32',\n",
    "                                                                                       'source_protocol': 'local',\n",
    "                                                                                       'source_protocol_codes': 'L'},\n",
    "                                                                  '100.2.0.0/16': { 'active': True,\n",
    "                                                                                    'metric': 1110,\n",
    "                                                                                    'next_hop': { 'next_hop_list': { 1: { 'index': 1,\n",
    "                                                                                                                          'next_hop': '100.100.35.3',\n",
    "                                                                                                                          'outgoing_interface': 'BDI1',\n",
    "                                                                                                                          'updated': '00:08:50'}}},\n",
    "                                                                                    'route': '100.2.0.0/16',\n",
    "                                                                                    'route_preference': 115,\n",
    "                                                                                    'source_protocol': 'isis',\n",
    "                                                                                    'source_protocol_codes': 'i '\n",
    "                                                                                                             'L2'},\n",
    "                                                                  '100.4.0.0/16': { 'active': True,\n",
    "                                                                                    'metric': 1020,\n",
    "                                                                                    'next_hop': { 'next_hop_list': { 1: { 'index': 1,\n",
    "                                                                                                                          'next_hop': '100.100.35.3',\n",
    "                                                                                                                          'outgoing_interface': 'BDI1',\n",
    "                                                                                                                          'updated': '00:08:50'}}},\n",
    "                                                                                    'route': '100.4.0.0/16',\n",
    "                                                                                    'route_preference': 115,\n",
    "                                                                                    'source_protocol': 'isis',\n",
    "                                                                                    'source_protocol_codes': 'i '\n",
    "                                                                                                             'L2'},\n",
    "                                                                  '100.5.0.0/16': { 'active': True,\n",
    "                                                                                    'next_hop': { 'outgoing_interface': { 'BDI100': { 'outgoing_interface': 'BDI100'}}},\n",
    "                                                                                    'route': '100.5.0.0/16',\n",
    "                                                                                    'source_protocol': 'connected',\n",
    "                                                                                    'source_protocol_codes': 'C'},\n",
    "                                                                  '100.5.200.200/32': { 'active': True,\n",
    "                                                                                        'next_hop': { 'outgoing_interface': { 'BDI100': { 'outgoing_interface': 'BDI100'}}},\n",
    "                                                                                        'route': '100.5.200.200/32',\n",
    "                                                                                        'source_protocol': 'local',\n",
    "                                                                                        'source_protocol_codes': 'L'}}}}}}}"
   ]
  },
  {
   "cell_type": "code",
   "execution_count": 74,
   "metadata": {},
   "outputs": [],
   "source": [
    "test_routes_after_modify = { 'vrf': { 'default': { 'address_family': { 'ipv4': { 'routes': { '10.67.120.250/32': { 'active': True,\n",
    "                                                                                        'metric': 1000,\n",
    "                                                                                        'next_hop': { 'next_hop_list': { 1: { 'index': 1,\n",
    "                                                                                                                              'next_hop': '100.100.35.3',\n",
    "                                                                                                                              'outgoing_interface': 'BDI1',\n",
    "                                                                                                                              'updated': '00:08:50'}}},\n",
    "                                                                                        'route': '10.67.120.250/32',\n",
    "                                                                                        'route_preference': 115,\n",
    "                                                                                        'source_protocol': 'isis',\n",
    "                                                                                        'source_protocol_codes': 'i '\n",
    "                                                                                                                 'L2'},\n",
    "                                                                  '10.67.23.250/32': { 'active': True,\n",
    "                                                                                       'next_hop': { 'outgoing_interface': { 'Loopback0': { 'outgoing_interface': 'Loopback0'}}},\n",
    "                                                                                       'route': '10.67.23.250/32',\n",
    "                                                                                       'source_protocol': 'connected',\n",
    "                                                                                       'source_protocol_codes': 'C'},\n",
    "                                                                  '10.68.120.250/32': { 'active': True,\n",
    "                                                                                        'metric': 1020,\n",
    "                                                                                        'next_hop': { 'next_hop_list': { 1: { 'index': 1,\n",
    "                                                                                                                              'next_hop': '100.100.35.3',\n",
    "                                                                                                                              'outgoing_interface': 'BDI1',\n",
    "                                                                                                                              'updated': '00:08:50'}}},\n",
    "                                                                                        'route': '10.68.120.250/32',\n",
    "                                                                                        'route_preference': 115,\n",
    "                                                                                        'source_protocol': 'isis',\n",
    "                                                                                        'source_protocol_codes': 'i '\n",
    "                                                                                                                 'L2'},\n",
    "                                                                  '10.75.1.50/32': { 'active': True,\n",
    "                                                                                     'metric': 1100,\n",
    "                                                                                     'next_hop': { 'next_hop_list': { 1: { 'index': 1,\n",
    "                                                                                                                           'next_hop': '100.100.35.3',\n",
    "                                                                                                                           'outgoing_interface': 'BDI1',\n",
    "                                                                                                                           'updated': '00:08:50'}}},\n",
    "                                                                                     'route': '10.75.1.50/32',\n",
    "                                                                                     'route_preference': 115,\n",
    "                                                                                     'source_protocol': 'isis',\n",
    "                                                                                     'source_protocol_codes': 'i '\n",
    "                                                                                                              'L2'},\n",
    "                                                                  '10.75.5.50/32': { 'active': True,\n",
    "                                                                                     'metric': 1110,\n",
    "                                                                                     'next_hop': { 'next_hop_list': { 1: { 'index': 1,\n",
    "                                                                                                                           'next_hop': '100.100.35.3',\n",
    "                                                                                                                           'outgoing_interface': 'BDI1',\n",
    "                                                                                                                           'updated': '00:08:50'}}},\n",
    "                                                                                     'route': '10.75.5.50/32',\n",
    "                                                                                     'route_preference': 115,\n",
    "                                                                                     'source_protocol': 'isis',\n",
    "                                                                                     'source_protocol_codes': 'i '\n",
    "                                                                                                              'L2'},\n",
    "                                                                  '100.1.0.0/16': { 'active': True,\n",
    "                                                                                    'metric': 1100,\n",
    "                                                                                    'next_hop': { 'next_hop_list': { 1: { 'index': 1,\n",
    "                                                                                                                          'next_hop': '100.100.35.3',\n",
    "                                                                                                                          'outgoing_interface': 'BDI1',\n",
    "                                                                                                                          'updated': '00:08:50'}}},\n",
    "                                                                                    'route': '100.1.0.0/16',\n",
    "                                                                                    'route_preference': 115,\n",
    "                                                                                    'source_protocol': 'isis',\n",
    "                                                                                    'source_protocol_codes': 'i '\n",
    "                                                                                                             'L2'},\n",
    "                                                                  '100.100.35.0/24': { 'active': True,\n",
    "                                                                                       'next_hop': { 'outgoing_interface': { 'BDI1': { 'outgoing_interface': 'BDI1'}}},\n",
    "                                                                                       'route': '100.100.35.0/24',\n",
    "                                                                                       'source_protocol': 'connected',\n",
    "                                                                                       'source_protocol_codes': 'C'},\n",
    "                                                                  '100.100.35.6/32': { 'active': True,\n",
    "                                                                                       'next_hop': { 'outgoing_interface': { 'BDI1': { 'outgoing_interface': 'BDI1'}}},\n",
    "                                                                                       'route': '100.100.35.5/32',\n",
    "                                                                                       'source_protocol': 'local',\n",
    "                                                                                       'source_protocol_codes': 'L'},\n",
    "                                                                  '100.100.45.1/24': { 'active': True,\n",
    "                                                                                       'next_hop': { 'outgoing_interface': { 'TenGigabitEthernet0/2/4': { 'outgoing_interface': 'TenGigabitEthernet0/2/4'}}},\n",
    "                                                                                       'route': '100.100.45.0/24',\n",
    "                                                                                       'source_protocol': 'connected',\n",
    "                                                                                       'source_protocol_codes': 'C'},\n",
    "                                                                  '100.100.45.6/32': { 'active': True,\n",
    "                                                                                       'next_hop': { 'outgoing_interface': { 'TenGigabitEthernet0/2/4': { 'outgoing_interface': 'TenGigabitEthernet0/2/4'}}},\n",
    "                                                                                       'route': '100.100.45.5/32',\n",
    "                                                                                       'source_protocol': 'local',\n",
    "                                                                                       'source_protocol_codes': 'L'},\n",
    "                                                                  '100.2.0.0/16': { 'active': True,\n",
    "                                                                                    'metric': 1110,\n",
    "                                                                                    'next_hop': { 'next_hop_list': { 1: { 'index': 1,\n",
    "                                                                                                                          'next_hop': '100.100.35.3',\n",
    "                                                                                                                          'outgoing_interface': 'BDI1',\n",
    "                                                                                                                          'updated': '00:08:50'}}},\n",
    "                                                                                    'route': '100.2.0.0/16',\n",
    "                                                                                    'route_preference': 115,\n",
    "                                                                                    'source_protocol': 'isis',\n",
    "                                                                                    'source_protocol_codes': 'i '\n",
    "                                                                                                             'L2'},\n",
    "                                                                  '100.4.0.0/16': { 'active': True,\n",
    "                                                                                    'metric': 1020,\n",
    "                                                                                    'next_hop': { 'next_hop_list': { 1: { 'index': 1,\n",
    "                                                                                                                          'next_hop': '100.100.35.3',\n",
    "                                                                                                                          'outgoing_interface': 'BDI1',\n",
    "                                                                                                                          'updated': '00:08:50'}}},\n",
    "                                                                                    'route': '100.4.0.0/16',\n",
    "                                                                                    'route_preference': 115,\n",
    "                                                                                    'source_protocol': 'isis',\n",
    "                                                                                    'source_protocol_codes': 'i '\n",
    "                                                                                                             'L2'},\n",
    "                                                                  '100.5.0.0/16': { 'active': True,\n",
    "                                                                                    'next_hop': { 'outgoing_interface': { 'BDI100': { 'outgoing_interface': 'BDI100'}}},\n",
    "                                                                                    'route': '100.5.0.0/16',\n",
    "                                                                                    'source_protocol': 'connected',\n",
    "                                                                                    'source_protocol_codes': 'C'},\n",
    "                                                                  '100.5.200.200/32': { 'active': True,\n",
    "                                                                                        'next_hop': { 'outgoing_interface': { 'BDI100': { 'outgoing_interface': 'BDI100'}}},\n",
    "                                                                                        'route': '100.5.200.200/32',\n",
    "                                                                                        'source_protocol': 'local',\n",
    "                                                                                        'source_protocol_codes': 'L'}}}}}}}"
   ]
  },
  {
   "cell_type": "code",
   "execution_count": 72,
   "metadata": {},
   "outputs": [],
   "source": [
    "test_routes_after_remove = { 'vrf': { 'default': { 'address_family': { 'ipv4': { 'routes': { '10.67.120.250/32': { 'active': True,\n",
    "                                                                                        'metric': 1000,\n",
    "                                                                                        'next_hop': { 'next_hop_list': { 1: { 'index': 1,\n",
    "                                                                                                                              'next_hop': '100.100.35.3',\n",
    "                                                                                                                              'outgoing_interface': 'BDI1',\n",
    "                                                                                                                              'updated': '00:08:50'}}},\n",
    "                                                                                        'route': '10.67.120.250/32',\n",
    "                                                                                        'route_preference': 115,\n",
    "                                                                                        'source_protocol': 'isis',\n",
    "                                                                                        'source_protocol_codes': 'i '\n",
    "                                                                                                                 'L2'},\n",
    "                                                                  '10.67.23.250/32': { 'active': True,\n",
    "                                                                                       'next_hop': { 'outgoing_interface': { 'Loopback0': { 'outgoing_interface': 'Loopback0'}}},\n",
    "                                                                                       'route': '10.67.23.250/32',\n",
    "                                                                                       'source_protocol': 'connected',\n",
    "                                                                                       'source_protocol_codes': 'C'},\n",
    "                                                                  '10.75.1.50/32': { 'active': True,\n",
    "                                                                                     'metric': 1100,\n",
    "                                                                                     'next_hop': { 'next_hop_list': { 1: { 'index': 1,\n",
    "                                                                                                                           'next_hop': '100.100.35.3',\n",
    "                                                                                                                           'outgoing_interface': 'BDI1',\n",
    "                                                                                                                           'updated': '00:08:50'}}},\n",
    "                                                                                     'route': '10.75.1.50/32',\n",
    "                                                                                     'route_preference': 115,\n",
    "                                                                                     'source_protocol': 'isis',\n",
    "                                                                                     'source_protocol_codes': 'i '\n",
    "                                                                                                              'L2'},\n",
    "                                                                  '10.75.5.50/32': { 'active': True,\n",
    "                                                                                     'metric': 1110,\n",
    "                                                                                     'next_hop': { 'next_hop_list': { 1: { 'index': 1,\n",
    "                                                                                                                           'next_hop': '100.100.35.3',\n",
    "                                                                                                                           'outgoing_interface': 'BDI1',\n",
    "                                                                                                                           'updated': '00:08:50'}}},\n",
    "                                                                                     'route': '10.75.5.50/32',\n",
    "                                                                                     'route_preference': 115,\n",
    "                                                                                     'source_protocol': 'isis',\n",
    "                                                                                     'source_protocol_codes': 'i '\n",
    "                                                                                                              'L2'},\n",
    "                                                                  '100.1.0.0/16': { 'active': True,\n",
    "                                                                                    'metric': 1100,\n",
    "                                                                                    'next_hop': { 'next_hop_list': { 1: { 'index': 1,\n",
    "                                                                                                                          'next_hop': '100.100.35.3',\n",
    "                                                                                                                          'outgoing_interface': 'BDI1',\n",
    "                                                                                                                          'updated': '00:08:50'}}},\n",
    "                                                                                    'route': '100.1.0.0/16',\n",
    "                                                                                    'route_preference': 115,\n",
    "                                                                                    'source_protocol': 'isis',\n",
    "                                                                                    'source_protocol_codes': 'i '\n",
    "                                                                                                             'L2'},\n",
    "                                                                  '100.100.35.0/24': { 'active': True,\n",
    "                                                                                       'next_hop': { 'outgoing_interface': { 'BDI1': { 'outgoing_interface': 'BDI1'}}},\n",
    "                                                                                       'route': '100.100.35.0/24',\n",
    "                                                                                       'source_protocol': 'connected',\n",
    "                                                                                       'source_protocol_codes': 'C'},\n",
    "                                                                  '100.100.45.0/24': { 'active': True,\n",
    "                                                                                       'next_hop': { 'outgoing_interface': { 'TenGigabitEthernet0/2/4': { 'outgoing_interface': 'TenGigabitEthernet0/2/4'}}},\n",
    "                                                                                       'route': '100.100.45.0/24',\n",
    "                                                                                       'source_protocol': 'connected',\n",
    "                                                                                       'source_protocol_codes': 'C'},\n",
    "                                                                  '100.100.45.5/32': { 'active': True,\n",
    "                                                                                       'next_hop': { 'outgoing_interface': { 'TenGigabitEthernet0/2/4': { 'outgoing_interface': 'TenGigabitEthernet0/2/4'}}},\n",
    "                                                                                       'route': '100.100.45.5/32',\n",
    "                                                                                       'source_protocol': 'local',\n",
    "                                                                                       'source_protocol_codes': 'L'},\n",
    "                                                                  '100.2.0.0/16': { 'active': True,\n",
    "                                                                                    'metric': 1110,\n",
    "                                                                                    'next_hop': { 'next_hop_list': { 1: { 'index': 1,\n",
    "                                                                                                                          'next_hop': '100.100.35.3',\n",
    "                                                                                                                          'outgoing_interface': 'BDI1',\n",
    "                                                                                                                          'updated': '00:08:50'}}},\n",
    "                                                                                    'route': '100.2.0.0/16',\n",
    "                                                                                    'route_preference': 115,\n",
    "                                                                                    'source_protocol': 'isis',\n",
    "                                                                                    'source_protocol_codes': 'i '\n",
    "                                                                                                             'L2'},\n",
    "                                                                  '100.4.0.0/16': { 'active': True,\n",
    "                                                                                    'metric': 1020,\n",
    "                                                                                    'next_hop': { 'next_hop_list': { 1: { 'index': 1,\n",
    "                                                                                                                          'next_hop': '100.100.35.3',\n",
    "                                                                                                                          'outgoing_interface': 'BDI1',\n",
    "                                                                                                                          'updated': '00:08:50'}}},\n",
    "                                                                                    'route': '100.4.0.0/16',\n",
    "                                                                                    'route_preference': 115,\n",
    "                                                                                    'source_protocol': 'isis',\n",
    "                                                                                    'source_protocol_codes': 'i '\n",
    "                                                                                                             'L2'},\n",
    "                                                                  '100.5.200.200/32': { 'active': True,\n",
    "                                                                                        'next_hop': { 'outgoing_interface': { 'BDI100': { 'outgoing_interface': 'BDI100'}}},\n",
    "                                                                                        'route': '100.5.200.200/32',\n",
    "                                                                                        'source_protocol': 'local',\n",
    "                                                                                        'source_protocol_codes': 'L'}}}}}}}"
   ]
  },
  {
   "cell_type": "code",
   "execution_count": 75,
   "metadata": {},
   "outputs": [
    {
     "output_type": "stream",
     "name": "stdout",
     "text": [
      "Routes have been modified but none has been removed\n vrf:\n  default:\n   address_family:\n    ipv4:\n     routes:\n-     100.100.35.5/32: \n-      active: True\n-      next_hop: \n-       outgoing_interface: \n-        BDI1: \n-         outgoing_interface: BDI1\n-      route: 100.100.35.5/32\n-      source_protocol: local\n-      source_protocol_codes: L\n+     100.100.35.6/32: \n+      active: True\n+      next_hop: \n+       outgoing_interface: \n+        BDI1: \n+         outgoing_interface: BDI1\n+      route: 100.100.35.5/32\n+      source_protocol: local\n+      source_protocol_codes: L\n-     100.100.45.0/24: \n-      active: True\n-      next_hop: \n-       outgoing_interface: \n-        TenGigabitEthernet0/2/4: \n-         outgoing_interface: TenGigabitEthernet0/2/4\n-      route: 100.100.45.0/24\n-      source_protocol: connected\n-      source_protocol_codes: C\n+     100.100.45.1/24: \n+      active: True\n+      next_hop: \n+       outgoing_interface: \n+        TenGigabitEthernet0/2/4: \n+         outgoing_interface: TenGigabitEthernet0/2/4\n+      route: 100.100.45.0/24\n+      source_protocol: connected\n+      source_protocol_codes: C\n-     100.100.45.5/32: \n-      active: True\n-      next_hop: \n-       outgoing_interface: \n-        TenGigabitEthernet0/2/4: \n-         outgoing_interface: TenGigabitEthernet0/2/4\n-      route: 100.100.45.5/32\n-      source_protocol: local\n-      source_protocol_codes: L\n+     100.100.45.6/32: \n+      active: True\n+      next_hop: \n+       outgoing_interface: \n+        TenGigabitEthernet0/2/4: \n+         outgoing_interface: TenGigabitEthernet0/2/4\n+      route: 100.100.45.5/32\n+      source_protocol: local\n+      source_protocol_codes: L\nRoutes have been modified but none has been removed\n vrf:\n  default:\n   address_family:\n    ipv4:\n     routes:\n-     10.68.120.250/32: \n-      active: True\n-      metric: 1020\n-      next_hop: \n-       next_hop_list: \n-        1: \n-         index: 1\n-         next_hop: 100.100.35.3\n-         outgoing_interface: BDI1\n-         updated: 00:08:50\n-      route: 10.68.120.250/32\n-      route_preference: 115\n-      source_protocol: isis\n-      source_protocol_codes: i L2\n-     100.100.35.5/32: \n-      active: True\n-      next_hop: \n-       outgoing_interface: \n-        BDI1: \n-         outgoing_interface: BDI1\n-      route: 100.100.35.5/32\n-      source_protocol: local\n-      source_protocol_codes: L\n-     100.5.0.0/16: \n-      active: True\n-      next_hop: \n-       outgoing_interface: \n-        BDI100: \n-         outgoing_interface: BDI100\n-      route: 100.5.0.0/16\n-      source_protocol: connected\n-      source_protocol_codes: C\n"
     ]
    }
   ],
   "source": [
    "from genie.utils.diff import Diff\n",
    "\n",
    "## routes -- modified\n",
    "dd = Diff(test_routes_before, test_routes_after_modify)\n",
    "dd.findDiff()\n",
    "\n",
    "print(\"Routes have been modified but none has been removed\")\n",
    "print(dd)\n",
    "\n",
    "print()\n",
    "print()\n",
    "print()\n",
    "\n",
    "## routes -- removed\n",
    "dd = Diff(test_routes_before, test_routes_after_remove)\n",
    "dd.findDiff()\n",
    "\n",
    "print(\"Routes have been removed but none has been modified\")\n",
    "print(dd)"
   ]
  },
  {
   "cell_type": "code",
   "execution_count": 66,
   "metadata": {},
   "outputs": [
    {
     "output_type": "stream",
     "name": "stdout",
     "text": [
      "Same values in a different order\n\nMissing a value\n-a: 5\n"
     ]
    }
   ],
   "source": [
    "a = {'a':5, 'b':7, 'c':8}\n",
    "b = {'c':8, 'a':5, 'b':7}\n",
    "\n",
    "dd = Diff(a, b)\n",
    "dd.findDiff()\n",
    "\n",
    "print(\"Same values in a different order\")\n",
    "print(dd)\n",
    "\n",
    "a = {'a':5, 'b':7, 'c':8}\n",
    "b = {'b':7, 'c':8}\n",
    "\n",
    "dd = Diff(a, b)\n",
    "dd.findDiff()\n",
    "\n",
    "print(\"Missing a value\")\n",
    "print(dd)"
   ]
  },
  {
   "cell_type": "code",
   "execution_count": null,
   "metadata": {},
   "outputs": [],
   "source": [
    "prin"
   ]
  }
 ]
}