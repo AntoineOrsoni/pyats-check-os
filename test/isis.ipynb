{
 "metadata": {
  "language_info": {
   "codemirror_mode": {
    "name": "ipython",
    "version": 3
   },
   "file_extension": ".py",
   "mimetype": "text/x-python",
   "name": "python",
   "nbconvert_exporter": "python",
   "pygments_lexer": "ipython3",
   "version": "3.7.3-final"
  },
  "orig_nbformat": 2,
  "kernelspec": {
   "name": "python3",
   "display_name": "Python 3"
  }
 },
 "nbformat": 4,
 "nbformat_minor": 2,
 "cells": [
  {
   "source": [
    "## Pre-setup"
   ],
   "cell_type": "markdown",
   "metadata": {}
  },
  {
   "source": [
    "# import the aetest module\n",
    "from pyats import aetest\n",
    "import logging\n",
    "from genie.testbed import load\n",
    "import argparse\n",
    "import sys\n",
    "import pprint\n",
    "\n",
    "# set debug level DEBUG, INFO, WARNING\n",
    "logger = logging.getLogger(__name__)\n",
    "logger.setLevel(logging.INFO)\n",
    "\n",
    "# set pprint\n",
    "pp = pprint.PrettyPrinter(indent = 2)"
   ],
   "cell_type": "code",
   "metadata": {},
   "execution_count": null,
   "outputs": []
  },
  {
   "source": [
    "## Time for the timestamps"
   ],
   "cell_type": "markdown",
   "metadata": {}
  },
  {
   "cell_type": "code",
   "execution_count": 83,
   "metadata": {},
   "outputs": [
    {
     "output_type": "stream",
     "name": "stdout",
     "text": [
      "2020-11-17 11:11:53\n"
     ]
    }
   ],
   "source": [
    "import time\n",
    "\n",
    "# %Y: full year (4 digits)\n",
    "# %m: month (2 digits)\n",
    "# %d: day (2 digits)\n",
    "# %H: hours\n",
    "# %M: minutes\n",
    "# %S: seconds\n",
    "# Doc: https://docs.python.org/fr/3/library/time.html#time.strftime\n",
    "\n",
    "# I have to reuse these two lines every time I need the current_time.\n",
    "t = time.localtime()\n",
    "current_time = time.strftime(\"%Y-%m-%d %H:%M:%S\", t)\n",
    "\n",
    "print(current_time)"
   ]
  },
  {
   "source": [
    "## Loading the testbed, connecting to the device"
   ],
   "cell_type": "markdown",
   "metadata": {}
  },
  {
   "cell_type": "code",
   "execution_count": 3,
   "metadata": {},
   "outputs": [],
   "source": [
    "testbed = load('/home/anorsoni/Projets/2020-CAP-Altitude/pyats-check-os/testbed.yaml')\n",
    "\n",
    "asr903_5 = testbed.devices[\"ASR903_5\"]\n",
    "\n",
    "asr903_5.connect(init_exec_commands=[],\n",
    "                 init_config_commands=[],\n",
    "                 log_stdout=False)"
   ]
  },
  {
   "cell_type": "code",
   "execution_count": 4,
   "metadata": {},
   "outputs": [
    {
     "output_type": "stream",
     "name": "stdout",
     "text": [
      "{ 'isis': { 'Altitude': { 'neighbors': { 'ASR903_3': { 'type': { 'L2': { 'circuit_id': '1E',\n                                                                         'holdtime': '25',\n                                                                         'interface': 'BD1',\n                                                                         'ip_address': '100.100.35.3',\n                                                                         'state': 'UP'}}},\n                                         'ASR903_4': { 'type': { 'L2': { 'circuit_id': '09',\n                                                                         'holdtime': '25',\n                                                                         'interface': 'Te0/2/4',\n                                                                         'ip_address': '100.100.45.4',\n                                                                         'state': 'UP'}}}}}}}\n"
     ]
    }
   ],
   "source": [
    "isis = asr903_5.parse('show isis neighbors')\n",
    "pp.pprint(isis)"
   ]
  },
  {
   "source": [
    "## Loading the DB"
   ],
   "cell_type": "markdown",
   "metadata": {}
  },
  {
   "cell_type": "code",
   "execution_count": 97,
   "metadata": {},
   "outputs": [],
   "source": [
    "import sqlite3\n",
    "db_connection = sqlite3.connect('../sqlite/db/checks.db')\n",
    "db_cursor = db_connection.cursor()"
   ]
  },
  {
   "source": [
    "## Setting up the DB\n"
   ],
   "cell_type": "markdown",
   "metadata": {}
  },
  {
   "cell_type": "code",
   "execution_count": 66,
   "metadata": {},
   "outputs": [],
   "source": [
    "db_cursor.execute('''CREATE TABLE isis (MyRouter text, Neighbor text, Type text, Interface text, Ip text, Timestamp text)''')\n",
    "db_cursor.execute('''CREATE TABLE timestamps (MyRouter text, TestName text, WhenTested text, TimeStamp text)''')\n",
    "db_connection.commit()"
   ]
  },
  {
   "source": [
    "## Getting isis information"
   ],
   "cell_type": "markdown",
   "metadata": {}
  },
  {
   "cell_type": "code",
   "execution_count": 116,
   "metadata": {},
   "outputs": [
    {
     "output_type": "stream",
     "name": "stdout",
     "text": [
      "Done!\n"
     ]
    }
   ],
   "source": [
    "my_router = asr903_5.name\n",
    "when_tested = \"before\"\n",
    "\n",
    "# Getting the current_time before the test\n",
    "t = time.localtime()\n",
    "current_time = time.strftime(\"%Y-%m-%d %H:%M:%S\", t)\n",
    "\n",
    "# Adding a line in the timestamps table\n",
    "# | MyRouter | TestName | WhenTested | Timestamp   |\n",
    "timestamps_tuple = []\n",
    "timestamps_tuple.extend((my_router, \"isis\", when_tested, current_time))\n",
    "db_cursor.execute('''INSERT INTO timestamps VALUES (?,?,?,?)''', timestamps_tuple)\n",
    "\n",
    "for tag in isis['isis']:\n",
    "\n",
    "    # I will create a line in the DB for each neighbor\n",
    "    for neighbor in isis['isis'][tag]['neighbors']:\n",
    "        neighbor = neighbor\n",
    "\n",
    "        for isis_type in isis['isis'][tag]['neighbors'][neighbor]['type']:\n",
    "            type = isis_type\n",
    "            interface = isis['isis'][tag]['neighbors'][neighbor]['type'][type]['interface']\n",
    "            ip_address = isis['isis'][tag]['neighbors'][neighbor]['type'][type]['ip_address']\n",
    "\n",
    "        # Creating a isis_tuple to insert in the isis table.\n",
    "        # | MyRouter | Neighbor | Type | Interface | Ip | Timestamp |\n",
    "        isis_tuple = []\n",
    "        isis_tuple.extend((my_router, neighbor, type, interface, ip_address, current_time))\n",
    "    \n",
    "        # Inserting a line for each neighbor in the \n",
    "        db_cursor.execute('''INSERT INTO isis VALUES (?,?,?,?,?,?)''', isis_tuple)\n",
    "\n",
    "# Comitting the changes\n",
    "db_connection.commit()\n",
    "\n",
    "print(\"Done!\")"
   ]
  },
  {
   "source": [
    "## Fecthing data from a DB\n",
    "### Fecthing from table isis"
   ],
   "cell_type": "markdown",
   "metadata": {}
  },
  {
   "cell_type": "code",
   "execution_count": 118,
   "metadata": {},
   "outputs": [
    {
     "output_type": "stream",
     "name": "stdout",
     "text": [
      "('ASR903_5', 'ASR903_3', 'L2', 'BD1', '100.100.35.3', '2020-11-17 11:47:12')\n('ASR903_5', 'ASR903_4', 'L2', 'Te0/2/4', '100.100.45.4', '2020-11-17 11:47:12')\n('ASR903_5', 'ASR903_3', 'L2', 'BD1', '100.100.35.3', '2020-11-17 11:51:45')\n('ASR903_5', 'ASR903_4', 'L2', 'Te0/2/4', '100.100.45.4', '2020-11-17 11:51:45')\n"
     ]
    }
   ],
   "source": [
    "db_cursor.execute('''SELECT * FROM isis''')\n",
    "for line in db_cursor.fetchall():\n",
    "    print(line)\n",
    "                    "
   ]
  },
  {
   "source": [
    "### Fecthing from table timestamps"
   ],
   "cell_type": "markdown",
   "metadata": {}
  },
  {
   "cell_type": "code",
   "execution_count": 119,
   "metadata": {},
   "outputs": [
    {
     "output_type": "stream",
     "name": "stdout",
     "text": [
      "('ASR903_5', 'isis', 'before', '2020-11-17 11:47:12')\n('ASR903_5', 'isis', 'before', '2020-11-17 11:51:45')\n"
     ]
    }
   ],
   "source": [
    "db_cursor.execute('''SELECT * FROM timestamps''')\n",
    "for line in db_cursor.fetchall():\n",
    "    print(line)"
   ]
  },
  {
   "cell_type": "code",
   "execution_count": null,
   "metadata": {},
   "outputs": [],
   "source": []
  }
 ]
}