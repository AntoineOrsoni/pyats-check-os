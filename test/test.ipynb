{
 "metadata": {
  "language_info": {
   "codemirror_mode": {
    "name": "ipython",
    "version": 3
   },
   "file_extension": ".py",
   "mimetype": "text/x-python",
   "name": "python",
   "nbconvert_exporter": "python",
   "pygments_lexer": "ipython3",
   "version": "3.7.3-final"
  },
  "orig_nbformat": 2,
  "kernelspec": {
   "name": "python3",
   "display_name": "Python 3"
  }
 },
 "nbformat": 4,
 "nbformat_minor": 2,
 "cells": [
  {
   "source": [
    "## Pre-setup"
   ],
   "cell_type": "markdown",
   "metadata": {}
  },
  {
   "source": [
    "# import the aetest module\n",
    "from pyats import aetest\n",
    "import logging\n",
    "from genie.testbed import load\n",
    "import argparse\n",
    "import sys\n",
    "import pprint\n",
    "\n",
    "# set debug level DEBUG, INFO, WARNING\n",
    "logger = logging.getLogger(__name__)\n",
    "logger.setLevel(logging.INFO)\n",
    "\n",
    "# set pprint\n",
    "pp = pprint.PrettyPrinter(indent = 2)"
   ],
   "cell_type": "code",
   "metadata": {},
   "execution_count": null,
   "outputs": []
  },
  {
   "source": [
    "## Loading the testbed, connecting to the device"
   ],
   "cell_type": "markdown",
   "metadata": {}
  },
  {
   "cell_type": "code",
   "execution_count": 3,
   "metadata": {},
   "outputs": [],
   "source": [
    "testbed = load('/home/anorsoni/Projets/2020-CAP-Altitude/pyats-check-os/testbed.yaml')\n",
    "\n",
    "asr903_5 = testbed.devices[\"ASR903_5\"]\n",
    "\n",
    "asr903_5.connect(init_exec_commands=[],\n",
    "                 init_config_commands=[],\n",
    "                 log_stdout=False)"
   ]
  },
  {
   "cell_type": "code",
   "execution_count": 4,
   "metadata": {},
   "outputs": [
    {
     "output_type": "stream",
     "name": "stdout",
     "text": [
      "{ 'isis': { 'Altitude': { 'neighbors': { 'ASR903_3': { 'type': { 'L2': { 'circuit_id': '1E',\n                                                                         'holdtime': '25',\n                                                                         'interface': 'BD1',\n                                                                         'ip_address': '100.100.35.3',\n                                                                         'state': 'UP'}}},\n                                         'ASR903_4': { 'type': { 'L2': { 'circuit_id': '09',\n                                                                         'holdtime': '25',\n                                                                         'interface': 'Te0/2/4',\n                                                                         'ip_address': '100.100.45.4',\n                                                                         'state': 'UP'}}}}}}}\n"
     ]
    }
   ],
   "source": [
    "isis = asr903_5.parse('show isis neighbors')\n",
    "pp.pprint(isis)"
   ]
  },
  {
   "source": [
    "## Setting the db"
   ],
   "cell_type": "markdown",
   "metadata": {}
  },
  {
   "cell_type": "code",
   "execution_count": 7,
   "metadata": {},
   "outputs": [],
   "source": [
    "import sqlite3\n",
    "isis_connection = sqlite3.connect('../sqlite/db/isis.db')\n",
    "isis_cursor = isis_connection.cursor()"
   ]
  },
  {
   "cell_type": "code",
   "execution_count": 11,
   "metadata": {},
   "outputs": [
    {
     "output_type": "stream",
     "name": "stdout",
     "text": [
      "{ 'isis': { 'Altitude': { 'neighbors': { 'ASR903_3': { 'type': { 'L2': { 'circuit_id': '1E',\n                                                                         'holdtime': '25',\n                                                                         'interface': 'BD1',\n                                                                         'ip_address': '100.100.35.3',\n                                                                         'state': 'UP'}}},\n                                         'ASR903_4': { 'type': { 'L2': { 'circuit_id': '09',\n                                                                         'holdtime': '25',\n                                                                         'interface': 'Te0/2/4',\n                                                                         'ip_address': '100.100.45.4',\n                                                                         'state': 'UP'}}}}}}}\n"
     ]
    }
   ],
   "source": [
    "pp.pprint(isis)"
   ]
  },
  {
   "cell_type": "code",
   "execution_count": 41,
   "metadata": {},
   "outputs": [
    {
     "output_type": "stream",
     "name": "stdout",
     "text": [
      "{'type': {'L2': {'interface': 'BD1', 'ip_address': '100.100.35.3', 'state': 'UP', 'holdtime': '25', 'circuit_id': '1E'}}}\n{'type': {'L2': {'interface': 'Te0/2/4', 'ip_address': '100.100.45.4', 'state': 'UP', 'holdtime': '25', 'circuit_id': '09'}}}\n"
     ]
    }
   ],
   "source": [
    "for tag in isis['isis']:\n",
    "\n",
    "    for neighbor in isis['isis'][tag]['neighbors']:\n",
    "        my_router = asr903_5.name\n",
    "        neighbor = neighbor\n",
    "        print(isis['isis'][tag]['neighbors'][neighbor])\n",
    "\n",
    "        for type in isis['isis'][tag]['neighbors'][neighbor]['type']:\n",
    "            type = type\n",
    "            interface = isis['isis'][tag]['neighbors'][neighbor]['type'][type]['interface']\n",
    "            ip_address = isis['isis'][tag]['neighbors'][neighbor]['type'][type]['ip_address']\n",
    "\n",
    "            isis_tuple = []\n",
    "            isis_tuple.extend((my_router, neighbor, type, interface, ip_address))\n",
    "\n",
    "            # isis_cursor.execute(f'''INSERT INTO isis VALUES ({my_router}, {neighbor}, {type}, {interface}, {ip_address})''')\n",
    "            isis_cursor.execute(f'''REPLACE INTO isis (MyRouter, Neighbor, Type, Interface, Ip) VALUES (?,?,?,?,?)''', isis_tuple)\n",
    "            isis_connection.commit()"
   ]
  },
  {
   "cell_type": "code",
   "execution_count": 43,
   "metadata": {},
   "outputs": [
    {
     "output_type": "stream",
     "name": "stdout",
     "text": [
      "[('ASR903_5', 'ASR903_3', 'L2', 'BD1', '100.100.35.3'), ('ASR903_5', 'ASR903_4', 'L2', 'Te0/2/4', '100.100.45.4'), ('ASR903_5', 'ASR903_3', 'L2', 'BD1', '100.100.35.3'), ('ASR903_5', 'ASR903_4', 'L2', 'Te0/2/4', '100.100.45.4'), ('ASR903_5', 'ASR903_3', 'L2', 'BD1', '100.100.35.3'), ('ASR903_5', 'ASR903_4', 'L2', 'Te0/2/4', '100.100.45.4'), ('ASR903_5', 'ASR903_3', 'L2', 'BD1', '100.100.35.3'), ('ASR903_5', 'ASR903_4', 'L2', 'Te0/2/4', '100.100.45.4'), ('ASR903_5', 'ASR903_3', 'L2', 'BD1', '100.100.35.3'), ('ASR903_5', 'ASR903_4', 'L2', 'Te0/2/4', '100.100.45.4')]\n"
     ]
    }
   ],
   "source": [
    "isis_cursor.execute('''SELECT * FROM isis''')\n",
    "print(isis_cursor.fetchall())\n",
    "                    "
   ]
  },
  {
   "cell_type": "code",
   "execution_count": null,
   "metadata": {},
   "outputs": [],
   "source": []
  }
 ]
}