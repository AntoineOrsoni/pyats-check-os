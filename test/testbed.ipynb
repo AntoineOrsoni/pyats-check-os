{
 "metadata": {
  "language_info": {
   "codemirror_mode": {
    "name": "ipython",
    "version": 3
   },
   "file_extension": ".py",
   "mimetype": "text/x-python",
   "name": "python",
   "nbconvert_exporter": "python",
   "pygments_lexer": "ipython3",
   "version": "3.7.3-final"
  },
  "orig_nbformat": 2,
  "kernelspec": {
   "name": "python3",
   "display_name": "Python 3"
  }
 },
 "nbformat": 4,
 "nbformat_minor": 2,
 "cells": [
  {
   "cell_type": "code",
   "execution_count": 4,
   "metadata": {},
   "outputs": [],
   "source": [
    "# import the aetest module\n",
    "from pyats import aetest\n",
    "import logging\n",
    "from genie.testbed import load\n",
    "import argparse\n",
    "import sys\n",
    "import pprint\n",
    "from unicon.core.errors import ConnectionError\n",
    "\n",
    "# set debug level DEBUG, INFO, WARNING\n",
    "logger = logging.getLogger(__name__)\n",
    "logger.setLevel(logging.INFO)\n",
    "\n",
    "# set pprint\n",
    "pp = pprint.PrettyPrinter(indent = 2)"
   ]
  },
  {
   "cell_type": "code",
   "execution_count": 5,
   "metadata": {},
   "outputs": [
    {
     "output_type": "stream",
     "name": "stdout",
     "text": [
      "Could not connect to device ASR903_6.\n"
     ]
    }
   ],
   "source": [
    "testbed = load('/home/anorsoni/Projets/2020-CAP-Altitude/pyats-check-os/testbed.yaml')\n",
    "\n",
    "for device in testbed:\n",
    "    # Try if I can connect to the device.\n",
    "    try:\n",
    "        device.connect( init_exec_commands=[],\n",
    "                        init_config_commands=[],\n",
    "                        log_stdout=False)\n",
    "\n",
    "    except ConnectionError as e:\n",
    "        print(f\"Could not connect to device {device.name}.\")"
   ]
  },
  {
   "cell_type": "code",
   "execution_count": 7,
   "metadata": {},
   "outputs": [
    {
     "output_type": "execute_result",
     "data": {
      "text/plain": [
       "<Device ASR903_6 at 0x7f9d52e3db70>"
      ]
     },
     "metadata": {},
     "execution_count": 7
    }
   ],
   "source": [
    "testbed.devices.pop('ASR903_6')"
   ]
  },
  {
   "cell_type": "code",
   "execution_count": 8,
   "metadata": {},
   "outputs": [
    {
     "output_type": "execute_result",
     "data": {
      "text/plain": [
       "TopologyDict({'ASR903_3': <Device ASR903_3 at 0x7f9d52e3da58>, 'ASR903_4': <Device ASR903_4 at 0x7f9d52e3d208>, 'ASR903_5': <Device ASR903_5 at 0x7f9d52e3d470>})"
      ]
     },
     "metadata": {},
     "execution_count": 8
    }
   ],
   "source": [
    "testbed.devices"
   ]
  },
  {
   "cell_type": "code",
   "execution_count": null,
   "metadata": {},
   "outputs": [],
   "source": []
  }
 ]
}