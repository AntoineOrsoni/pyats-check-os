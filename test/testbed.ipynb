{
 "metadata": {
  "language_info": {
   "codemirror_mode": {
    "name": "ipython",
    "version": 3
   },
   "file_extension": ".py",
   "mimetype": "text/x-python",
   "name": "python",
   "nbconvert_exporter": "python",
   "pygments_lexer": "ipython3",
   "version": "3.7.3-final"
  },
  "orig_nbformat": 2,
  "kernelspec": {
   "name": "python3",
   "display_name": "Python 3"
  }
 },
 "nbformat": 4,
 "nbformat_minor": 2,
 "cells": [
  {
   "cell_type": "code",
   "execution_count": 1,
   "metadata": {},
   "outputs": [],
   "source": [
    "# import the aetest module\n",
    "from pyats import aetest\n",
    "import logging\n",
    "from genie.testbed import load\n",
    "import argparse\n",
    "import sys\n",
    "import pprint\n",
    "from unicon.core.errors import ConnectionError\n",
    "\n",
    "# set debug level DEBUG, INFO, WARNING\n",
    "logger = logging.getLogger(__name__)\n",
    "logger.setLevel(logging.INFO)\n",
    "\n",
    "# set pprint\n",
    "pp = pprint.PrettyPrinter(indent = 2)"
   ]
  },
  {
   "cell_type": "code",
   "execution_count": 3,
   "metadata": {},
   "outputs": [
    {
     "output_type": "error",
     "ename": "ConnectionError",
     "evalue": "failed to connect to ASR903_6\nFailed while bringing device to \"any\" state",
     "traceback": [
      "\u001b[0;31m---------------------------------------------------------------------------\u001b[0m",
      "\u001b[0;31mOSError\u001b[0m                                   Traceback (most recent call last)",
      "\u001b[0;32m~/Projets/2020-CAP-Altitude/pyats-check-os/venv/lib/python3.7/site-packages/unicon/eal/backend/pty_backend.cpython-37m-x86_64-linux-gnu.so\u001b[0m in \u001b[0;36municon.eal.backend.pty_backend.RawPtySpawn._read\u001b[0;34m()\u001b[0m\n",
      "\u001b[0;31mOSError\u001b[0m: [Errno 5] Input/output error",
      "\nThe above exception was the direct cause of the following exception:\n",
      "\u001b[0;31mEOF\u001b[0m                                       Traceback (most recent call last)",
      "\u001b[0;32m~/Projets/2020-CAP-Altitude/pyats-check-os/venv/lib/python3.7/site-packages/unicon/statemachine/statemachine.cpython-37m-x86_64-linux-gnu.so\u001b[0m in \u001b[0;36municon.statemachine.statemachine.StateMachine.go_to\u001b[0;34m()\u001b[0m\n",
      "\u001b[0;32m~/Projets/2020-CAP-Altitude/pyats-check-os/venv/lib/python3.7/site-packages/unicon/statemachine/statetransition.cpython-37m-x86_64-linux-gnu.so\u001b[0m in \u001b[0;36municon.statemachine.statetransition.AnyStateTransition.do_transitions\u001b[0;34m()\u001b[0m\n",
      "\u001b[0;32m~/Projets/2020-CAP-Altitude/pyats-check-os/venv/lib/python3.7/site-packages/unicon/eal/backend/pty_backend.cpython-37m-x86_64-linux-gnu.so\u001b[0m in \u001b[0;36municon.eal.backend.pty_backend.RawSpawn.expect\u001b[0;34m()\u001b[0m\n",
      "\u001b[0;32m~/Projets/2020-CAP-Altitude/pyats-check-os/venv/lib/python3.7/site-packages/unicon/eal/backend/pty_backend.cpython-37m-x86_64-linux-gnu.so\u001b[0m in \u001b[0;36municon.eal.backend.pty_backend.RawSpawn.read_update_buffer\u001b[0;34m()\u001b[0m\n",
      "\u001b[0;32m~/Projets/2020-CAP-Altitude/pyats-check-os/venv/lib/python3.7/site-packages/unicon/eal/backend/pty_backend.cpython-37m-x86_64-linux-gnu.so\u001b[0m in \u001b[0;36municon.eal.backend.pty_backend.RawSpawn.read\u001b[0;34m()\u001b[0m\n",
      "\u001b[0;32m~/Projets/2020-CAP-Altitude/pyats-check-os/venv/lib/python3.7/site-packages/unicon/eal/backend/pty_backend.cpython-37m-x86_64-linux-gnu.so\u001b[0m in \u001b[0;36municon.eal.backend.pty_backend.RawPtySpawn._read\u001b[0;34m()\u001b[0m\n",
      "\u001b[0;31mEOF\u001b[0m: ('Unable to read. Connection closed or not available', OSError(5, 'Input/output error'))",
      "\nThe above exception was the direct cause of the following exception:\n",
      "\u001b[0;31mStateMachineError\u001b[0m                         Traceback (most recent call last)",
      "\u001b[0;32m~/Projets/2020-CAP-Altitude/pyats-check-os/venv/lib/python3.7/site-packages/unicon/bases/connection.cpython-37m-x86_64-linux-gnu.so\u001b[0m in \u001b[0;36municon.bases.connection.Connection.connect\u001b[0;34m()\u001b[0m\n",
      "\u001b[0;32m~/Projets/2020-CAP-Altitude/pyats-check-os/venv/lib/python3.7/site-packages/unicon/bases/routers/connection_provider.cpython-37m-x86_64-linux-gnu.so\u001b[0m in \u001b[0;36municon.bases.routers.connection_provider.BaseSingleRpConnectionProvider.connect\u001b[0;34m()\u001b[0m\n",
      "\u001b[0;32m~/Projets/2020-CAP-Altitude/pyats-check-os/venv/lib/python3.7/site-packages/unicon/bases/routers/connection_provider.cpython-37m-x86_64-linux-gnu.so\u001b[0m in \u001b[0;36municon.bases.routers.connection_provider.BaseSingleRpConnectionProvider.establish_connection\u001b[0;34m()\u001b[0m\n",
      "\u001b[0;32m~/Projets/2020-CAP-Altitude/pyats-check-os/venv/lib/python3.7/site-packages/unicon/statemachine/statemachine.cpython-37m-x86_64-linux-gnu.so\u001b[0m in \u001b[0;36municon.statemachine.statemachine.StateMachine.go_to\u001b[0;34m()\u001b[0m\n",
      "\u001b[0;31mStateMachineError\u001b[0m: Failed while bringing device to \"any\" state",
      "\nThe above exception was the direct cause of the following exception:\n",
      "\u001b[0;31mConnectionError\u001b[0m                           Traceback (most recent call last)",
      "\u001b[0;32m<ipython-input-3-7bcefd358879>\u001b[0m in \u001b[0;36m<module>\u001b[0;34m\u001b[0m\n\u001b[1;32m      6\u001b[0m         device.connect( init_exec_commands=[],\n\u001b[1;32m      7\u001b[0m                         \u001b[0minit_config_commands\u001b[0m\u001b[0;34m=\u001b[0m\u001b[0;34m[\u001b[0m\u001b[0;34m]\u001b[0m\u001b[0;34m,\u001b[0m\u001b[0;34m\u001b[0m\u001b[0;34m\u001b[0m\u001b[0m\n\u001b[0;32m----> 8\u001b[0;31m                         log_stdout=False)\n\u001b[0m\u001b[1;32m      9\u001b[0m \u001b[0;34m\u001b[0m\u001b[0m\n\u001b[1;32m     10\u001b[0m     \u001b[0;32mexcept\u001b[0m \u001b[0mConnectionError\u001b[0m \u001b[0;32mas\u001b[0m \u001b[0me\u001b[0m\u001b[0;34m:\u001b[0m\u001b[0;34m\u001b[0m\u001b[0;34m\u001b[0m\u001b[0m\n",
      "\u001b[0;32m~/Projets/2020-CAP-Altitude/pyats-check-os/venv/lib/python3.7/site-packages/genie/conf/base/device.cpython-37m-x86_64-linux-gnu.so\u001b[0m in \u001b[0;36mgenie.conf.base.device.Device.connect\u001b[0;34m()\u001b[0m\n",
      "\u001b[0;32m~/Projets/2020-CAP-Altitude/pyats-check-os/venv/lib/python3.7/site-packages/pyats/connections/manager.cpython-37m-x86_64-linux-gnu.so\u001b[0m in \u001b[0;36mpyats.connections.manager.ConnectionManager.connect\u001b[0;34m()\u001b[0m\n",
      "\u001b[0;32m~/Projets/2020-CAP-Altitude/pyats-check-os/venv/lib/python3.7/site-packages/unicon/bases/connection.cpython-37m-x86_64-linux-gnu.so\u001b[0m in \u001b[0;36municon.bases.connection.Connection.connect\u001b[0;34m()\u001b[0m\n",
      "\u001b[0;31mConnectionError\u001b[0m: failed to connect to ASR903_6\nFailed while bringing device to \"any\" state"
     ]
    }
   ],
   "source": [
    "testbed = load('/home/anorsoni/Projets/2020-CAP-Altitude/pyats-check-os/testbed.yaml')\n",
    "\n",
    "for device in testbed:\n",
    "    # Try if I can connect to the device.\n",
    "    try:\n",
    "        device.connect( init_exec_commands=[],\n",
    "                        init_config_commands=[],\n",
    "                        log_stdout=False)\n",
    "\n",
    "    except ConnectionError as e:\n",
    "        print(f\"Could not connect to device {device.name}.\")"
   ]
  },
  {
   "cell_type": "code",
   "execution_count": null,
   "metadata": {},
   "outputs": [],
   "source": []
  }
 ]
}